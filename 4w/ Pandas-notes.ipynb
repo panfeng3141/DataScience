{
 "cells": [
  {
   "cell_type": "markdown",
   "metadata": {},
   "source": [
    "# Pandas-notes"
   ]
  },
  {
   "cell_type": "markdown",
   "metadata": {},
   "source": [
    "by panfeng3141 | 2016-5-28"
   ]
  },
  {
   "cell_type": "markdown",
   "metadata": {},
   "source": [
    "---"
   ]
  },
  {
   "cell_type": "code",
   "execution_count": 3,
   "metadata": {
    "collapsed": true
   },
   "outputs": [],
   "source": [
    "import pandas as pd\n",
    "import numpy as np\n",
    "import matplotlib.pyplot as plt"
   ]
  },
  {
   "cell_type": "markdown",
   "metadata": {},
   "source": [
    "## 一、Object Creation"
   ]
  },
  {
   "cell_type": "markdown",
   "metadata": {},
   "source": [
    "#### Creating a Series by passing a list of values, letting pandas create a default integer index:"
   ]
  },
  {
   "cell_type": "code",
   "execution_count": 4,
   "metadata": {
    "collapsed": true
   },
   "outputs": [],
   "source": [
    "s = pd.Series([1,3,5,np.nan,6,8])"
   ]
  },
  {
   "cell_type": "code",
   "execution_count": 5,
   "metadata": {
    "collapsed": false
   },
   "outputs": [
    {
     "data": {
      "text/plain": [
       "0     1\n",
       "1     3\n",
       "2     5\n",
       "3   NaN\n",
       "4     6\n",
       "5     8\n",
       "dtype: float64"
      ]
     },
     "execution_count": 5,
     "metadata": {},
     "output_type": "execute_result"
    }
   ],
   "source": [
    "s"
   ]
  },
  {
   "cell_type": "markdown",
   "metadata": {},
   "source": [
    "#### Creating a DataFrame by passing a numpy array, with a datetime index and labeled columns:"
   ]
  },
  {
   "cell_type": "code",
   "execution_count": 6,
   "metadata": {
    "collapsed": true
   },
   "outputs": [],
   "source": [
    "dates = pd.date_range('20130101', periods=6) "
   ]
  },
  {
   "cell_type": "code",
   "execution_count": 7,
   "metadata": {
    "collapsed": false
   },
   "outputs": [
    {
     "data": {
      "text/plain": [
       "DatetimeIndex(['2013-01-01', '2013-01-02', '2013-01-03', '2013-01-04',\n",
       "               '2013-01-05', '2013-01-06'],\n",
       "              dtype='datetime64[ns]', freq='D')"
      ]
     },
     "execution_count": 7,
     "metadata": {},
     "output_type": "execute_result"
    }
   ],
   "source": [
    "dates"
   ]
  },
  {
   "cell_type": "code",
   "execution_count": 8,
   "metadata": {
    "collapsed": true
   },
   "outputs": [],
   "source": [
    "df = pd.DataFrame(np.random.randn(6,4), index=dates, columns=list('ABCD'))"
   ]
  },
  {
   "cell_type": "code",
   "execution_count": 9,
   "metadata": {
    "collapsed": false
   },
   "outputs": [
    {
     "data": {
      "text/html": [
       "<div>\n",
       "<table border=\"1\" class=\"dataframe\">\n",
       "  <thead>\n",
       "    <tr style=\"text-align: right;\">\n",
       "      <th></th>\n",
       "      <th>A</th>\n",
       "      <th>B</th>\n",
       "      <th>C</th>\n",
       "      <th>D</th>\n",
       "    </tr>\n",
       "  </thead>\n",
       "  <tbody>\n",
       "    <tr>\n",
       "      <th>2013-01-01</th>\n",
       "      <td>1.431510</td>\n",
       "      <td>2.198873</td>\n",
       "      <td>1.499909</td>\n",
       "      <td>-0.860189</td>\n",
       "    </tr>\n",
       "    <tr>\n",
       "      <th>2013-01-02</th>\n",
       "      <td>-0.490164</td>\n",
       "      <td>0.245186</td>\n",
       "      <td>-0.088227</td>\n",
       "      <td>0.202495</td>\n",
       "    </tr>\n",
       "    <tr>\n",
       "      <th>2013-01-03</th>\n",
       "      <td>0.901716</td>\n",
       "      <td>2.109316</td>\n",
       "      <td>1.519154</td>\n",
       "      <td>0.190347</td>\n",
       "    </tr>\n",
       "    <tr>\n",
       "      <th>2013-01-04</th>\n",
       "      <td>1.518263</td>\n",
       "      <td>-0.183908</td>\n",
       "      <td>0.934466</td>\n",
       "      <td>-1.678126</td>\n",
       "    </tr>\n",
       "    <tr>\n",
       "      <th>2013-01-05</th>\n",
       "      <td>0.241306</td>\n",
       "      <td>0.137567</td>\n",
       "      <td>0.171558</td>\n",
       "      <td>-0.856492</td>\n",
       "    </tr>\n",
       "    <tr>\n",
       "      <th>2013-01-06</th>\n",
       "      <td>-1.724195</td>\n",
       "      <td>0.755962</td>\n",
       "      <td>0.998388</td>\n",
       "      <td>-1.280674</td>\n",
       "    </tr>\n",
       "  </tbody>\n",
       "</table>\n",
       "</div>"
      ],
      "text/plain": [
       "                   A         B         C         D\n",
       "2013-01-01  1.431510  2.198873  1.499909 -0.860189\n",
       "2013-01-02 -0.490164  0.245186 -0.088227  0.202495\n",
       "2013-01-03  0.901716  2.109316  1.519154  0.190347\n",
       "2013-01-04  1.518263 -0.183908  0.934466 -1.678126\n",
       "2013-01-05  0.241306  0.137567  0.171558 -0.856492\n",
       "2013-01-06 -1.724195  0.755962  0.998388 -1.280674"
      ]
     },
     "execution_count": 9,
     "metadata": {},
     "output_type": "execute_result"
    }
   ],
   "source": [
    "df"
   ]
  },
  {
   "cell_type": "markdown",
   "metadata": {},
   "source": [
    "#### Creating a DataFrame by passing a dict of objects that can be converted to series-like."
   ]
  },
  {
   "cell_type": "code",
   "execution_count": 11,
   "metadata": {
    "collapsed": true
   },
   "outputs": [],
   "source": [
    "df2 = pd.DataFrame({ 'A' : 1.,\n",
    "   ....:                      'B' : pd.Timestamp('20130102'),\n",
    "   ....:                      'C' : pd.Series(1,index=list(range(4)),dtype='float32'),\n",
    "   ....:                      'D' : np.array([3] * 4,dtype='int32'),\n",
    "   ....:                      'E' : pd.Categorical([\"test\",\"train\",\"test\",\"train\"]),\n",
    "   ....:                      'F' : 'foo' })\n",
    "   ....: "
   ]
  },
  {
   "cell_type": "code",
   "execution_count": 12,
   "metadata": {
    "collapsed": false
   },
   "outputs": [
    {
     "data": {
      "text/html": [
       "<div>\n",
       "<table border=\"1\" class=\"dataframe\">\n",
       "  <thead>\n",
       "    <tr style=\"text-align: right;\">\n",
       "      <th></th>\n",
       "      <th>A</th>\n",
       "      <th>B</th>\n",
       "      <th>C</th>\n",
       "      <th>D</th>\n",
       "      <th>E</th>\n",
       "      <th>F</th>\n",
       "    </tr>\n",
       "  </thead>\n",
       "  <tbody>\n",
       "    <tr>\n",
       "      <th>0</th>\n",
       "      <td>1</td>\n",
       "      <td>2013-01-02</td>\n",
       "      <td>1</td>\n",
       "      <td>3</td>\n",
       "      <td>test</td>\n",
       "      <td>foo</td>\n",
       "    </tr>\n",
       "    <tr>\n",
       "      <th>1</th>\n",
       "      <td>1</td>\n",
       "      <td>2013-01-02</td>\n",
       "      <td>1</td>\n",
       "      <td>3</td>\n",
       "      <td>train</td>\n",
       "      <td>foo</td>\n",
       "    </tr>\n",
       "    <tr>\n",
       "      <th>2</th>\n",
       "      <td>1</td>\n",
       "      <td>2013-01-02</td>\n",
       "      <td>1</td>\n",
       "      <td>3</td>\n",
       "      <td>test</td>\n",
       "      <td>foo</td>\n",
       "    </tr>\n",
       "    <tr>\n",
       "      <th>3</th>\n",
       "      <td>1</td>\n",
       "      <td>2013-01-02</td>\n",
       "      <td>1</td>\n",
       "      <td>3</td>\n",
       "      <td>train</td>\n",
       "      <td>foo</td>\n",
       "    </tr>\n",
       "  </tbody>\n",
       "</table>\n",
       "</div>"
      ],
      "text/plain": [
       "   A          B  C  D      E    F\n",
       "0  1 2013-01-02  1  3   test  foo\n",
       "1  1 2013-01-02  1  3  train  foo\n",
       "2  1 2013-01-02  1  3   test  foo\n",
       "3  1 2013-01-02  1  3  train  foo"
      ]
     },
     "execution_count": 12,
     "metadata": {},
     "output_type": "execute_result"
    }
   ],
   "source": [
    "df2"
   ]
  },
  {
   "cell_type": "markdown",
   "metadata": {},
   "source": [
    "#### Having specific dtypes"
   ]
  },
  {
   "cell_type": "code",
   "execution_count": 14,
   "metadata": {
    "collapsed": false
   },
   "outputs": [
    {
     "data": {
      "text/plain": [
       "A           float64\n",
       "B    datetime64[ns]\n",
       "C           float32\n",
       "D             int32\n",
       "E          category\n",
       "F            object\n",
       "dtype: object"
      ]
     },
     "execution_count": 14,
     "metadata": {},
     "output_type": "execute_result"
    }
   ],
   "source": [
    "df2.dtypes"
   ]
  },
  {
   "cell_type": "markdown",
   "metadata": {},
   "source": [
    "## 二、Viewing Data"
   ]
  },
  {
   "cell_type": "markdown",
   "metadata": {},
   "source": [
    "#### See the top & bottom rows of the frame"
   ]
  },
  {
   "cell_type": "code",
   "execution_count": 19,
   "metadata": {
    "collapsed": false
   },
   "outputs": [
    {
     "data": {
      "text/html": [
       "<div>\n",
       "<table border=\"1\" class=\"dataframe\">\n",
       "  <thead>\n",
       "    <tr style=\"text-align: right;\">\n",
       "      <th></th>\n",
       "      <th>A</th>\n",
       "      <th>B</th>\n",
       "      <th>C</th>\n",
       "      <th>D</th>\n",
       "    </tr>\n",
       "  </thead>\n",
       "  <tbody>\n",
       "    <tr>\n",
       "      <th>2013-01-01</th>\n",
       "      <td>1.431510</td>\n",
       "      <td>2.198873</td>\n",
       "      <td>1.499909</td>\n",
       "      <td>-0.860189</td>\n",
       "    </tr>\n",
       "    <tr>\n",
       "      <th>2013-01-02</th>\n",
       "      <td>-0.490164</td>\n",
       "      <td>0.245186</td>\n",
       "      <td>-0.088227</td>\n",
       "      <td>0.202495</td>\n",
       "    </tr>\n",
       "    <tr>\n",
       "      <th>2013-01-03</th>\n",
       "      <td>0.901716</td>\n",
       "      <td>2.109316</td>\n",
       "      <td>1.519154</td>\n",
       "      <td>0.190347</td>\n",
       "    </tr>\n",
       "    <tr>\n",
       "      <th>2013-01-04</th>\n",
       "      <td>1.518263</td>\n",
       "      <td>-0.183908</td>\n",
       "      <td>0.934466</td>\n",
       "      <td>-1.678126</td>\n",
       "    </tr>\n",
       "    <tr>\n",
       "      <th>2013-01-05</th>\n",
       "      <td>0.241306</td>\n",
       "      <td>0.137567</td>\n",
       "      <td>0.171558</td>\n",
       "      <td>-0.856492</td>\n",
       "    </tr>\n",
       "  </tbody>\n",
       "</table>\n",
       "</div>"
      ],
      "text/plain": [
       "                   A         B         C         D\n",
       "2013-01-01  1.431510  2.198873  1.499909 -0.860189\n",
       "2013-01-02 -0.490164  0.245186 -0.088227  0.202495\n",
       "2013-01-03  0.901716  2.109316  1.519154  0.190347\n",
       "2013-01-04  1.518263 -0.183908  0.934466 -1.678126\n",
       "2013-01-05  0.241306  0.137567  0.171558 -0.856492"
      ]
     },
     "execution_count": 19,
     "metadata": {},
     "output_type": "execute_result"
    }
   ],
   "source": [
    "df.head()"
   ]
  },
  {
   "cell_type": "code",
   "execution_count": 21,
   "metadata": {
    "collapsed": false
   },
   "outputs": [
    {
     "data": {
      "text/html": [
       "<div>\n",
       "<table border=\"1\" class=\"dataframe\">\n",
       "  <thead>\n",
       "    <tr style=\"text-align: right;\">\n",
       "      <th></th>\n",
       "      <th>A</th>\n",
       "      <th>B</th>\n",
       "      <th>C</th>\n",
       "      <th>D</th>\n",
       "    </tr>\n",
       "  </thead>\n",
       "  <tbody>\n",
       "    <tr>\n",
       "      <th>2013-01-04</th>\n",
       "      <td>1.518263</td>\n",
       "      <td>-0.183908</td>\n",
       "      <td>0.934466</td>\n",
       "      <td>-1.678126</td>\n",
       "    </tr>\n",
       "    <tr>\n",
       "      <th>2013-01-05</th>\n",
       "      <td>0.241306</td>\n",
       "      <td>0.137567</td>\n",
       "      <td>0.171558</td>\n",
       "      <td>-0.856492</td>\n",
       "    </tr>\n",
       "    <tr>\n",
       "      <th>2013-01-06</th>\n",
       "      <td>-1.724195</td>\n",
       "      <td>0.755962</td>\n",
       "      <td>0.998388</td>\n",
       "      <td>-1.280674</td>\n",
       "    </tr>\n",
       "  </tbody>\n",
       "</table>\n",
       "</div>"
      ],
      "text/plain": [
       "                   A         B         C         D\n",
       "2013-01-04  1.518263 -0.183908  0.934466 -1.678126\n",
       "2013-01-05  0.241306  0.137567  0.171558 -0.856492\n",
       "2013-01-06 -1.724195  0.755962  0.998388 -1.280674"
      ]
     },
     "execution_count": 21,
     "metadata": {},
     "output_type": "execute_result"
    }
   ],
   "source": [
    "df.tail(3)"
   ]
  },
  {
   "cell_type": "markdown",
   "metadata": {},
   "source": [
    "#### Display the index, columns, and the underlying numpy data"
   ]
  },
  {
   "cell_type": "code",
   "execution_count": 22,
   "metadata": {
    "collapsed": false
   },
   "outputs": [
    {
     "data": {
      "text/plain": [
       "DatetimeIndex(['2013-01-01', '2013-01-02', '2013-01-03', '2013-01-04',\n",
       "               '2013-01-05', '2013-01-06'],\n",
       "              dtype='datetime64[ns]', freq='D')"
      ]
     },
     "execution_count": 22,
     "metadata": {},
     "output_type": "execute_result"
    }
   ],
   "source": [
    "df.index"
   ]
  },
  {
   "cell_type": "code",
   "execution_count": 23,
   "metadata": {
    "collapsed": false
   },
   "outputs": [
    {
     "data": {
      "text/plain": [
       "Index([u'A', u'B', u'C', u'D'], dtype='object')"
      ]
     },
     "execution_count": 23,
     "metadata": {},
     "output_type": "execute_result"
    }
   ],
   "source": [
    "df.columns"
   ]
  },
  {
   "cell_type": "code",
   "execution_count": 24,
   "metadata": {
    "collapsed": false
   },
   "outputs": [
    {
     "data": {
      "text/plain": [
       "array([[ 1.43151039,  2.19887316,  1.49990879, -0.86018888],\n",
       "       [-0.49016365,  0.24518555, -0.08822667,  0.20249453],\n",
       "       [ 0.90171593,  2.10931553,  1.51915401,  0.19034722],\n",
       "       [ 1.51826337, -0.18390825,  0.9344664 , -1.67812579],\n",
       "       [ 0.24130644,  0.13756683,  0.17155839, -0.85649167],\n",
       "       [-1.72419471,  0.75596193,  0.99838847, -1.28067408]])"
      ]
     },
     "execution_count": 24,
     "metadata": {},
     "output_type": "execute_result"
    }
   ],
   "source": [
    "df.values"
   ]
  },
  {
   "cell_type": "markdown",
   "metadata": {},
   "source": [
    "#### Describe shows a quick statistic summary of your data"
   ]
  },
  {
   "cell_type": "code",
   "execution_count": 25,
   "metadata": {
    "collapsed": false
   },
   "outputs": [
    {
     "data": {
      "text/html": [
       "<div>\n",
       "<table border=\"1\" class=\"dataframe\">\n",
       "  <thead>\n",
       "    <tr style=\"text-align: right;\">\n",
       "      <th></th>\n",
       "      <th>A</th>\n",
       "      <th>B</th>\n",
       "      <th>C</th>\n",
       "      <th>D</th>\n",
       "    </tr>\n",
       "  </thead>\n",
       "  <tbody>\n",
       "    <tr>\n",
       "      <th>count</th>\n",
       "      <td>6.000000</td>\n",
       "      <td>6.000000</td>\n",
       "      <td>6.000000</td>\n",
       "      <td>6.000000</td>\n",
       "    </tr>\n",
       "    <tr>\n",
       "      <th>mean</th>\n",
       "      <td>0.313073</td>\n",
       "      <td>0.877166</td>\n",
       "      <td>0.839208</td>\n",
       "      <td>-0.713773</td>\n",
       "    </tr>\n",
       "    <tr>\n",
       "      <th>std</th>\n",
       "      <td>1.253051</td>\n",
       "      <td>1.034609</td>\n",
       "      <td>0.669202</td>\n",
       "      <td>0.768133</td>\n",
       "    </tr>\n",
       "    <tr>\n",
       "      <th>min</th>\n",
       "      <td>-1.724195</td>\n",
       "      <td>-0.183908</td>\n",
       "      <td>-0.088227</td>\n",
       "      <td>-1.678126</td>\n",
       "    </tr>\n",
       "    <tr>\n",
       "      <th>25%</th>\n",
       "      <td>-0.307296</td>\n",
       "      <td>0.164472</td>\n",
       "      <td>0.362285</td>\n",
       "      <td>-1.175553</td>\n",
       "    </tr>\n",
       "    <tr>\n",
       "      <th>50%</th>\n",
       "      <td>0.571511</td>\n",
       "      <td>0.500574</td>\n",
       "      <td>0.966427</td>\n",
       "      <td>-0.858340</td>\n",
       "    </tr>\n",
       "    <tr>\n",
       "      <th>75%</th>\n",
       "      <td>1.299062</td>\n",
       "      <td>1.770977</td>\n",
       "      <td>1.374529</td>\n",
       "      <td>-0.071363</td>\n",
       "    </tr>\n",
       "    <tr>\n",
       "      <th>max</th>\n",
       "      <td>1.518263</td>\n",
       "      <td>2.198873</td>\n",
       "      <td>1.519154</td>\n",
       "      <td>0.202495</td>\n",
       "    </tr>\n",
       "  </tbody>\n",
       "</table>\n",
       "</div>"
      ],
      "text/plain": [
       "              A         B         C         D\n",
       "count  6.000000  6.000000  6.000000  6.000000\n",
       "mean   0.313073  0.877166  0.839208 -0.713773\n",
       "std    1.253051  1.034609  0.669202  0.768133\n",
       "min   -1.724195 -0.183908 -0.088227 -1.678126\n",
       "25%   -0.307296  0.164472  0.362285 -1.175553\n",
       "50%    0.571511  0.500574  0.966427 -0.858340\n",
       "75%    1.299062  1.770977  1.374529 -0.071363\n",
       "max    1.518263  2.198873  1.519154  0.202495"
      ]
     },
     "execution_count": 25,
     "metadata": {},
     "output_type": "execute_result"
    }
   ],
   "source": [
    "df.describe()"
   ]
  },
  {
   "cell_type": "markdown",
   "metadata": {},
   "source": [
    "#### Transposing your data"
   ]
  },
  {
   "cell_type": "code",
   "execution_count": 26,
   "metadata": {
    "collapsed": false
   },
   "outputs": [
    {
     "data": {
      "text/html": [
       "<div>\n",
       "<table border=\"1\" class=\"dataframe\">\n",
       "  <thead>\n",
       "    <tr style=\"text-align: right;\">\n",
       "      <th></th>\n",
       "      <th>2013-01-01 00:00:00</th>\n",
       "      <th>2013-01-02 00:00:00</th>\n",
       "      <th>2013-01-03 00:00:00</th>\n",
       "      <th>2013-01-04 00:00:00</th>\n",
       "      <th>2013-01-05 00:00:00</th>\n",
       "      <th>2013-01-06 00:00:00</th>\n",
       "    </tr>\n",
       "  </thead>\n",
       "  <tbody>\n",
       "    <tr>\n",
       "      <th>A</th>\n",
       "      <td>1.431510</td>\n",
       "      <td>-0.490164</td>\n",
       "      <td>0.901716</td>\n",
       "      <td>1.518263</td>\n",
       "      <td>0.241306</td>\n",
       "      <td>-1.724195</td>\n",
       "    </tr>\n",
       "    <tr>\n",
       "      <th>B</th>\n",
       "      <td>2.198873</td>\n",
       "      <td>0.245186</td>\n",
       "      <td>2.109316</td>\n",
       "      <td>-0.183908</td>\n",
       "      <td>0.137567</td>\n",
       "      <td>0.755962</td>\n",
       "    </tr>\n",
       "    <tr>\n",
       "      <th>C</th>\n",
       "      <td>1.499909</td>\n",
       "      <td>-0.088227</td>\n",
       "      <td>1.519154</td>\n",
       "      <td>0.934466</td>\n",
       "      <td>0.171558</td>\n",
       "      <td>0.998388</td>\n",
       "    </tr>\n",
       "    <tr>\n",
       "      <th>D</th>\n",
       "      <td>-0.860189</td>\n",
       "      <td>0.202495</td>\n",
       "      <td>0.190347</td>\n",
       "      <td>-1.678126</td>\n",
       "      <td>-0.856492</td>\n",
       "      <td>-1.280674</td>\n",
       "    </tr>\n",
       "  </tbody>\n",
       "</table>\n",
       "</div>"
      ],
      "text/plain": [
       "   2013-01-01  2013-01-02  2013-01-03  2013-01-04  2013-01-05  2013-01-06\n",
       "A    1.431510   -0.490164    0.901716    1.518263    0.241306   -1.724195\n",
       "B    2.198873    0.245186    2.109316   -0.183908    0.137567    0.755962\n",
       "C    1.499909   -0.088227    1.519154    0.934466    0.171558    0.998388\n",
       "D   -0.860189    0.202495    0.190347   -1.678126   -0.856492   -1.280674"
      ]
     },
     "execution_count": 26,
     "metadata": {},
     "output_type": "execute_result"
    }
   ],
   "source": [
    "df.T"
   ]
  },
  {
   "cell_type": "markdown",
   "metadata": {},
   "source": [
    "#### Sorting by an axis"
   ]
  },
  {
   "cell_type": "code",
   "execution_count": 28,
   "metadata": {
    "collapsed": false
   },
   "outputs": [
    {
     "data": {
      "text/html": [
       "<div>\n",
       "<table border=\"1\" class=\"dataframe\">\n",
       "  <thead>\n",
       "    <tr style=\"text-align: right;\">\n",
       "      <th></th>\n",
       "      <th>D</th>\n",
       "      <th>C</th>\n",
       "      <th>B</th>\n",
       "      <th>A</th>\n",
       "    </tr>\n",
       "  </thead>\n",
       "  <tbody>\n",
       "    <tr>\n",
       "      <th>2013-01-01</th>\n",
       "      <td>-0.860189</td>\n",
       "      <td>1.499909</td>\n",
       "      <td>2.198873</td>\n",
       "      <td>1.431510</td>\n",
       "    </tr>\n",
       "    <tr>\n",
       "      <th>2013-01-02</th>\n",
       "      <td>0.202495</td>\n",
       "      <td>-0.088227</td>\n",
       "      <td>0.245186</td>\n",
       "      <td>-0.490164</td>\n",
       "    </tr>\n",
       "    <tr>\n",
       "      <th>2013-01-03</th>\n",
       "      <td>0.190347</td>\n",
       "      <td>1.519154</td>\n",
       "      <td>2.109316</td>\n",
       "      <td>0.901716</td>\n",
       "    </tr>\n",
       "    <tr>\n",
       "      <th>2013-01-04</th>\n",
       "      <td>-1.678126</td>\n",
       "      <td>0.934466</td>\n",
       "      <td>-0.183908</td>\n",
       "      <td>1.518263</td>\n",
       "    </tr>\n",
       "    <tr>\n",
       "      <th>2013-01-05</th>\n",
       "      <td>-0.856492</td>\n",
       "      <td>0.171558</td>\n",
       "      <td>0.137567</td>\n",
       "      <td>0.241306</td>\n",
       "    </tr>\n",
       "    <tr>\n",
       "      <th>2013-01-06</th>\n",
       "      <td>-1.280674</td>\n",
       "      <td>0.998388</td>\n",
       "      <td>0.755962</td>\n",
       "      <td>-1.724195</td>\n",
       "    </tr>\n",
       "  </tbody>\n",
       "</table>\n",
       "</div>"
      ],
      "text/plain": [
       "                   D         C         B         A\n",
       "2013-01-01 -0.860189  1.499909  2.198873  1.431510\n",
       "2013-01-02  0.202495 -0.088227  0.245186 -0.490164\n",
       "2013-01-03  0.190347  1.519154  2.109316  0.901716\n",
       "2013-01-04 -1.678126  0.934466 -0.183908  1.518263\n",
       "2013-01-05 -0.856492  0.171558  0.137567  0.241306\n",
       "2013-01-06 -1.280674  0.998388  0.755962 -1.724195"
      ]
     },
     "execution_count": 28,
     "metadata": {},
     "output_type": "execute_result"
    }
   ],
   "source": [
    "df.sort_index(axis=1, ascending=False)"
   ]
  },
  {
   "cell_type": "markdown",
   "metadata": {},
   "source": [
    "#### Sorting by values"
   ]
  },
  {
   "cell_type": "code",
   "execution_count": 29,
   "metadata": {
    "collapsed": false
   },
   "outputs": [
    {
     "data": {
      "text/html": [
       "<div>\n",
       "<table border=\"1\" class=\"dataframe\">\n",
       "  <thead>\n",
       "    <tr style=\"text-align: right;\">\n",
       "      <th></th>\n",
       "      <th>A</th>\n",
       "      <th>B</th>\n",
       "      <th>C</th>\n",
       "      <th>D</th>\n",
       "    </tr>\n",
       "  </thead>\n",
       "  <tbody>\n",
       "    <tr>\n",
       "      <th>2013-01-04</th>\n",
       "      <td>1.518263</td>\n",
       "      <td>-0.183908</td>\n",
       "      <td>0.934466</td>\n",
       "      <td>-1.678126</td>\n",
       "    </tr>\n",
       "    <tr>\n",
       "      <th>2013-01-05</th>\n",
       "      <td>0.241306</td>\n",
       "      <td>0.137567</td>\n",
       "      <td>0.171558</td>\n",
       "      <td>-0.856492</td>\n",
       "    </tr>\n",
       "    <tr>\n",
       "      <th>2013-01-02</th>\n",
       "      <td>-0.490164</td>\n",
       "      <td>0.245186</td>\n",
       "      <td>-0.088227</td>\n",
       "      <td>0.202495</td>\n",
       "    </tr>\n",
       "    <tr>\n",
       "      <th>2013-01-06</th>\n",
       "      <td>-1.724195</td>\n",
       "      <td>0.755962</td>\n",
       "      <td>0.998388</td>\n",
       "      <td>-1.280674</td>\n",
       "    </tr>\n",
       "    <tr>\n",
       "      <th>2013-01-03</th>\n",
       "      <td>0.901716</td>\n",
       "      <td>2.109316</td>\n",
       "      <td>1.519154</td>\n",
       "      <td>0.190347</td>\n",
       "    </tr>\n",
       "    <tr>\n",
       "      <th>2013-01-01</th>\n",
       "      <td>1.431510</td>\n",
       "      <td>2.198873</td>\n",
       "      <td>1.499909</td>\n",
       "      <td>-0.860189</td>\n",
       "    </tr>\n",
       "  </tbody>\n",
       "</table>\n",
       "</div>"
      ],
      "text/plain": [
       "                   A         B         C         D\n",
       "2013-01-04  1.518263 -0.183908  0.934466 -1.678126\n",
       "2013-01-05  0.241306  0.137567  0.171558 -0.856492\n",
       "2013-01-02 -0.490164  0.245186 -0.088227  0.202495\n",
       "2013-01-06 -1.724195  0.755962  0.998388 -1.280674\n",
       "2013-01-03  0.901716  2.109316  1.519154  0.190347\n",
       "2013-01-01  1.431510  2.198873  1.499909 -0.860189"
      ]
     },
     "execution_count": 29,
     "metadata": {},
     "output_type": "execute_result"
    }
   ],
   "source": [
    "df.sort_values(by='B')"
   ]
  },
  {
   "cell_type": "markdown",
   "metadata": {},
   "source": [
    "## 三、Selection"
   ]
  },
  {
   "cell_type": "markdown",
   "metadata": {},
   "source": [
    "#### Getting"
   ]
  },
  {
   "cell_type": "code",
   "execution_count": 35,
   "metadata": {
    "collapsed": false
   },
   "outputs": [
    {
     "data": {
      "text/plain": [
       "2013-01-01    1.431510\n",
       "2013-01-02   -0.490164\n",
       "2013-01-03    0.901716\n",
       "2013-01-04    1.518263\n",
       "2013-01-05    0.241306\n",
       "2013-01-06   -1.724195\n",
       "Freq: D, Name: A, dtype: float64"
      ]
     },
     "execution_count": 35,
     "metadata": {},
     "output_type": "execute_result"
    }
   ],
   "source": [
    "#Selecting a single column, which yields a Series, equivalent to df.A\n",
    "df['A']"
   ]
  },
  {
   "cell_type": "code",
   "execution_count": 33,
   "metadata": {
    "collapsed": false
   },
   "outputs": [
    {
     "data": {
      "text/html": [
       "<div>\n",
       "<table border=\"1\" class=\"dataframe\">\n",
       "  <thead>\n",
       "    <tr style=\"text-align: right;\">\n",
       "      <th></th>\n",
       "      <th>A</th>\n",
       "      <th>B</th>\n",
       "      <th>C</th>\n",
       "      <th>D</th>\n",
       "    </tr>\n",
       "  </thead>\n",
       "  <tbody>\n",
       "    <tr>\n",
       "      <th>2013-01-01</th>\n",
       "      <td>1.431510</td>\n",
       "      <td>2.198873</td>\n",
       "      <td>1.499909</td>\n",
       "      <td>-0.860189</td>\n",
       "    </tr>\n",
       "    <tr>\n",
       "      <th>2013-01-02</th>\n",
       "      <td>-0.490164</td>\n",
       "      <td>0.245186</td>\n",
       "      <td>-0.088227</td>\n",
       "      <td>0.202495</td>\n",
       "    </tr>\n",
       "    <tr>\n",
       "      <th>2013-01-03</th>\n",
       "      <td>0.901716</td>\n",
       "      <td>2.109316</td>\n",
       "      <td>1.519154</td>\n",
       "      <td>0.190347</td>\n",
       "    </tr>\n",
       "  </tbody>\n",
       "</table>\n",
       "</div>"
      ],
      "text/plain": [
       "                   A         B         C         D\n",
       "2013-01-01  1.431510  2.198873  1.499909 -0.860189\n",
       "2013-01-02 -0.490164  0.245186 -0.088227  0.202495\n",
       "2013-01-03  0.901716  2.109316  1.519154  0.190347"
      ]
     },
     "execution_count": 33,
     "metadata": {},
     "output_type": "execute_result"
    }
   ],
   "source": [
    "#Selecting via [], which slices the rows.\n",
    "df[0:3]"
   ]
  },
  {
   "cell_type": "code",
   "execution_count": 34,
   "metadata": {
    "collapsed": false
   },
   "outputs": [
    {
     "data": {
      "text/html": [
       "<div>\n",
       "<table border=\"1\" class=\"dataframe\">\n",
       "  <thead>\n",
       "    <tr style=\"text-align: right;\">\n",
       "      <th></th>\n",
       "      <th>A</th>\n",
       "      <th>B</th>\n",
       "      <th>C</th>\n",
       "      <th>D</th>\n",
       "    </tr>\n",
       "  </thead>\n",
       "  <tbody>\n",
       "    <tr>\n",
       "      <th>2013-01-02</th>\n",
       "      <td>-0.490164</td>\n",
       "      <td>0.245186</td>\n",
       "      <td>-0.088227</td>\n",
       "      <td>0.202495</td>\n",
       "    </tr>\n",
       "    <tr>\n",
       "      <th>2013-01-03</th>\n",
       "      <td>0.901716</td>\n",
       "      <td>2.109316</td>\n",
       "      <td>1.519154</td>\n",
       "      <td>0.190347</td>\n",
       "    </tr>\n",
       "    <tr>\n",
       "      <th>2013-01-04</th>\n",
       "      <td>1.518263</td>\n",
       "      <td>-0.183908</td>\n",
       "      <td>0.934466</td>\n",
       "      <td>-1.678126</td>\n",
       "    </tr>\n",
       "  </tbody>\n",
       "</table>\n",
       "</div>"
      ],
      "text/plain": [
       "                   A         B         C         D\n",
       "2013-01-02 -0.490164  0.245186 -0.088227  0.202495\n",
       "2013-01-03  0.901716  2.109316  1.519154  0.190347\n",
       "2013-01-04  1.518263 -0.183908  0.934466 -1.678126"
      ]
     },
     "execution_count": 34,
     "metadata": {},
     "output_type": "execute_result"
    }
   ],
   "source": [
    "df['20130102':'20130104']"
   ]
  },
  {
   "cell_type": "markdown",
   "metadata": {},
   "source": [
    "#### Selection by Label"
   ]
  },
  {
   "cell_type": "code",
   "execution_count": 36,
   "metadata": {
    "collapsed": false
   },
   "outputs": [
    {
     "data": {
      "text/plain": [
       "A    1.431510\n",
       "B    2.198873\n",
       "C    1.499909\n",
       "D   -0.860189\n",
       "Name: 2013-01-01 00:00:00, dtype: float64"
      ]
     },
     "execution_count": 36,
     "metadata": {},
     "output_type": "execute_result"
    }
   ],
   "source": [
    "df.loc[dates[0]]"
   ]
  },
  {
   "cell_type": "code",
   "execution_count": 37,
   "metadata": {
    "collapsed": false
   },
   "outputs": [
    {
     "data": {
      "text/html": [
       "<div>\n",
       "<table border=\"1\" class=\"dataframe\">\n",
       "  <thead>\n",
       "    <tr style=\"text-align: right;\">\n",
       "      <th></th>\n",
       "      <th>A</th>\n",
       "      <th>B</th>\n",
       "    </tr>\n",
       "  </thead>\n",
       "  <tbody>\n",
       "    <tr>\n",
       "      <th>2013-01-01</th>\n",
       "      <td>1.431510</td>\n",
       "      <td>2.198873</td>\n",
       "    </tr>\n",
       "    <tr>\n",
       "      <th>2013-01-02</th>\n",
       "      <td>-0.490164</td>\n",
       "      <td>0.245186</td>\n",
       "    </tr>\n",
       "    <tr>\n",
       "      <th>2013-01-03</th>\n",
       "      <td>0.901716</td>\n",
       "      <td>2.109316</td>\n",
       "    </tr>\n",
       "    <tr>\n",
       "      <th>2013-01-04</th>\n",
       "      <td>1.518263</td>\n",
       "      <td>-0.183908</td>\n",
       "    </tr>\n",
       "    <tr>\n",
       "      <th>2013-01-05</th>\n",
       "      <td>0.241306</td>\n",
       "      <td>0.137567</td>\n",
       "    </tr>\n",
       "    <tr>\n",
       "      <th>2013-01-06</th>\n",
       "      <td>-1.724195</td>\n",
       "      <td>0.755962</td>\n",
       "    </tr>\n",
       "  </tbody>\n",
       "</table>\n",
       "</div>"
      ],
      "text/plain": [
       "                   A         B\n",
       "2013-01-01  1.431510  2.198873\n",
       "2013-01-02 -0.490164  0.245186\n",
       "2013-01-03  0.901716  2.109316\n",
       "2013-01-04  1.518263 -0.183908\n",
       "2013-01-05  0.241306  0.137567\n",
       "2013-01-06 -1.724195  0.755962"
      ]
     },
     "execution_count": 37,
     "metadata": {},
     "output_type": "execute_result"
    }
   ],
   "source": [
    "df.loc[:,['A','B']]"
   ]
  },
  {
   "cell_type": "code",
   "execution_count": 38,
   "metadata": {
    "collapsed": false
   },
   "outputs": [
    {
     "data": {
      "text/html": [
       "<div>\n",
       "<table border=\"1\" class=\"dataframe\">\n",
       "  <thead>\n",
       "    <tr style=\"text-align: right;\">\n",
       "      <th></th>\n",
       "      <th>A</th>\n",
       "      <th>B</th>\n",
       "    </tr>\n",
       "  </thead>\n",
       "  <tbody>\n",
       "    <tr>\n",
       "      <th>2013-01-02</th>\n",
       "      <td>-0.490164</td>\n",
       "      <td>0.245186</td>\n",
       "    </tr>\n",
       "    <tr>\n",
       "      <th>2013-01-03</th>\n",
       "      <td>0.901716</td>\n",
       "      <td>2.109316</td>\n",
       "    </tr>\n",
       "    <tr>\n",
       "      <th>2013-01-04</th>\n",
       "      <td>1.518263</td>\n",
       "      <td>-0.183908</td>\n",
       "    </tr>\n",
       "  </tbody>\n",
       "</table>\n",
       "</div>"
      ],
      "text/plain": [
       "                   A         B\n",
       "2013-01-02 -0.490164  0.245186\n",
       "2013-01-03  0.901716  2.109316\n",
       "2013-01-04  1.518263 -0.183908"
      ]
     },
     "execution_count": 38,
     "metadata": {},
     "output_type": "execute_result"
    }
   ],
   "source": [
    "df.loc['20130102':'20130104',['A','B']]"
   ]
  },
  {
   "cell_type": "code",
   "execution_count": 39,
   "metadata": {
    "collapsed": false
   },
   "outputs": [
    {
     "data": {
      "text/plain": [
       "A   -0.490164\n",
       "B    0.245186\n",
       "Name: 2013-01-02 00:00:00, dtype: float64"
      ]
     },
     "execution_count": 39,
     "metadata": {},
     "output_type": "execute_result"
    }
   ],
   "source": [
    "df.loc['20130102',['A','B']]"
   ]
  },
  {
   "cell_type": "code",
   "execution_count": 40,
   "metadata": {
    "collapsed": false
   },
   "outputs": [
    {
     "data": {
      "text/plain": [
       "1.4315103875146225"
      ]
     },
     "execution_count": 40,
     "metadata": {},
     "output_type": "execute_result"
    }
   ],
   "source": [
    " df.loc[dates[0],'A']"
   ]
  },
  {
   "cell_type": "code",
   "execution_count": 41,
   "metadata": {
    "collapsed": false
   },
   "outputs": [
    {
     "data": {
      "text/plain": [
       "1.4315103875146225"
      ]
     },
     "execution_count": 41,
     "metadata": {},
     "output_type": "execute_result"
    }
   ],
   "source": [
    "df.at[dates[0],'A']"
   ]
  },
  {
   "cell_type": "markdown",
   "metadata": {},
   "source": [
    "#### Selection by Position"
   ]
  },
  {
   "cell_type": "code",
   "execution_count": 42,
   "metadata": {
    "collapsed": false
   },
   "outputs": [
    {
     "data": {
      "text/plain": [
       "A    1.518263\n",
       "B   -0.183908\n",
       "C    0.934466\n",
       "D   -1.678126\n",
       "Name: 2013-01-04 00:00:00, dtype: float64"
      ]
     },
     "execution_count": 42,
     "metadata": {},
     "output_type": "execute_result"
    }
   ],
   "source": [
    "df.iloc[3]"
   ]
  },
  {
   "cell_type": "code",
   "execution_count": 43,
   "metadata": {
    "collapsed": false
   },
   "outputs": [
    {
     "data": {
      "text/html": [
       "<div>\n",
       "<table border=\"1\" class=\"dataframe\">\n",
       "  <thead>\n",
       "    <tr style=\"text-align: right;\">\n",
       "      <th></th>\n",
       "      <th>A</th>\n",
       "      <th>B</th>\n",
       "      <th>C</th>\n",
       "      <th>D</th>\n",
       "    </tr>\n",
       "  </thead>\n",
       "  <tbody>\n",
       "    <tr>\n",
       "      <th>2013-01-01</th>\n",
       "      <td>1.431510</td>\n",
       "      <td>2.198873</td>\n",
       "      <td>1.499909</td>\n",
       "      <td>-0.860189</td>\n",
       "    </tr>\n",
       "    <tr>\n",
       "      <th>2013-01-02</th>\n",
       "      <td>-0.490164</td>\n",
       "      <td>0.245186</td>\n",
       "      <td>-0.088227</td>\n",
       "      <td>0.202495</td>\n",
       "    </tr>\n",
       "    <tr>\n",
       "      <th>2013-01-03</th>\n",
       "      <td>0.901716</td>\n",
       "      <td>2.109316</td>\n",
       "      <td>1.519154</td>\n",
       "      <td>0.190347</td>\n",
       "    </tr>\n",
       "    <tr>\n",
       "      <th>2013-01-04</th>\n",
       "      <td>1.518263</td>\n",
       "      <td>-0.183908</td>\n",
       "      <td>0.934466</td>\n",
       "      <td>-1.678126</td>\n",
       "    </tr>\n",
       "    <tr>\n",
       "      <th>2013-01-05</th>\n",
       "      <td>0.241306</td>\n",
       "      <td>0.137567</td>\n",
       "      <td>0.171558</td>\n",
       "      <td>-0.856492</td>\n",
       "    </tr>\n",
       "    <tr>\n",
       "      <th>2013-01-06</th>\n",
       "      <td>-1.724195</td>\n",
       "      <td>0.755962</td>\n",
       "      <td>0.998388</td>\n",
       "      <td>-1.280674</td>\n",
       "    </tr>\n",
       "  </tbody>\n",
       "</table>\n",
       "</div>"
      ],
      "text/plain": [
       "                   A         B         C         D\n",
       "2013-01-01  1.431510  2.198873  1.499909 -0.860189\n",
       "2013-01-02 -0.490164  0.245186 -0.088227  0.202495\n",
       "2013-01-03  0.901716  2.109316  1.519154  0.190347\n",
       "2013-01-04  1.518263 -0.183908  0.934466 -1.678126\n",
       "2013-01-05  0.241306  0.137567  0.171558 -0.856492\n",
       "2013-01-06 -1.724195  0.755962  0.998388 -1.280674"
      ]
     },
     "execution_count": 43,
     "metadata": {},
     "output_type": "execute_result"
    }
   ],
   "source": [
    "df"
   ]
  },
  {
   "cell_type": "code",
   "execution_count": 44,
   "metadata": {
    "collapsed": false
   },
   "outputs": [
    {
     "data": {
      "text/html": [
       "<div>\n",
       "<table border=\"1\" class=\"dataframe\">\n",
       "  <thead>\n",
       "    <tr style=\"text-align: right;\">\n",
       "      <th></th>\n",
       "      <th>A</th>\n",
       "      <th>B</th>\n",
       "    </tr>\n",
       "  </thead>\n",
       "  <tbody>\n",
       "    <tr>\n",
       "      <th>2013-01-04</th>\n",
       "      <td>1.518263</td>\n",
       "      <td>-0.183908</td>\n",
       "    </tr>\n",
       "    <tr>\n",
       "      <th>2013-01-05</th>\n",
       "      <td>0.241306</td>\n",
       "      <td>0.137567</td>\n",
       "    </tr>\n",
       "  </tbody>\n",
       "</table>\n",
       "</div>"
      ],
      "text/plain": [
       "                   A         B\n",
       "2013-01-04  1.518263 -0.183908\n",
       "2013-01-05  0.241306  0.137567"
      ]
     },
     "execution_count": 44,
     "metadata": {},
     "output_type": "execute_result"
    }
   ],
   "source": [
    "df.iloc[3:5,0:2]"
   ]
  },
  {
   "cell_type": "code",
   "execution_count": 45,
   "metadata": {
    "collapsed": false
   },
   "outputs": [
    {
     "data": {
      "text/html": [
       "<div>\n",
       "<table border=\"1\" class=\"dataframe\">\n",
       "  <thead>\n",
       "    <tr style=\"text-align: right;\">\n",
       "      <th></th>\n",
       "      <th>A</th>\n",
       "      <th>C</th>\n",
       "    </tr>\n",
       "  </thead>\n",
       "  <tbody>\n",
       "    <tr>\n",
       "      <th>2013-01-02</th>\n",
       "      <td>-0.490164</td>\n",
       "      <td>-0.088227</td>\n",
       "    </tr>\n",
       "    <tr>\n",
       "      <th>2013-01-03</th>\n",
       "      <td>0.901716</td>\n",
       "      <td>1.519154</td>\n",
       "    </tr>\n",
       "    <tr>\n",
       "      <th>2013-01-05</th>\n",
       "      <td>0.241306</td>\n",
       "      <td>0.171558</td>\n",
       "    </tr>\n",
       "  </tbody>\n",
       "</table>\n",
       "</div>"
      ],
      "text/plain": [
       "                   A         C\n",
       "2013-01-02 -0.490164 -0.088227\n",
       "2013-01-03  0.901716  1.519154\n",
       "2013-01-05  0.241306  0.171558"
      ]
     },
     "execution_count": 45,
     "metadata": {},
     "output_type": "execute_result"
    }
   ],
   "source": [
    "df.iloc[[1,2,4],[0,2]]"
   ]
  },
  {
   "cell_type": "code",
   "execution_count": 46,
   "metadata": {
    "collapsed": false
   },
   "outputs": [
    {
     "data": {
      "text/html": [
       "<div>\n",
       "<table border=\"1\" class=\"dataframe\">\n",
       "  <thead>\n",
       "    <tr style=\"text-align: right;\">\n",
       "      <th></th>\n",
       "      <th>A</th>\n",
       "      <th>B</th>\n",
       "      <th>C</th>\n",
       "      <th>D</th>\n",
       "    </tr>\n",
       "  </thead>\n",
       "  <tbody>\n",
       "    <tr>\n",
       "      <th>2013-01-02</th>\n",
       "      <td>-0.490164</td>\n",
       "      <td>0.245186</td>\n",
       "      <td>-0.088227</td>\n",
       "      <td>0.202495</td>\n",
       "    </tr>\n",
       "    <tr>\n",
       "      <th>2013-01-03</th>\n",
       "      <td>0.901716</td>\n",
       "      <td>2.109316</td>\n",
       "      <td>1.519154</td>\n",
       "      <td>0.190347</td>\n",
       "    </tr>\n",
       "  </tbody>\n",
       "</table>\n",
       "</div>"
      ],
      "text/plain": [
       "                   A         B         C         D\n",
       "2013-01-02 -0.490164  0.245186 -0.088227  0.202495\n",
       "2013-01-03  0.901716  2.109316  1.519154  0.190347"
      ]
     },
     "execution_count": 46,
     "metadata": {},
     "output_type": "execute_result"
    }
   ],
   "source": [
    "df.iloc[1:3,:]"
   ]
  },
  {
   "cell_type": "code",
   "execution_count": 47,
   "metadata": {
    "collapsed": false
   },
   "outputs": [
    {
     "data": {
      "text/html": [
       "<div>\n",
       "<table border=\"1\" class=\"dataframe\">\n",
       "  <thead>\n",
       "    <tr style=\"text-align: right;\">\n",
       "      <th></th>\n",
       "      <th>B</th>\n",
       "      <th>C</th>\n",
       "    </tr>\n",
       "  </thead>\n",
       "  <tbody>\n",
       "    <tr>\n",
       "      <th>2013-01-01</th>\n",
       "      <td>2.198873</td>\n",
       "      <td>1.499909</td>\n",
       "    </tr>\n",
       "    <tr>\n",
       "      <th>2013-01-02</th>\n",
       "      <td>0.245186</td>\n",
       "      <td>-0.088227</td>\n",
       "    </tr>\n",
       "    <tr>\n",
       "      <th>2013-01-03</th>\n",
       "      <td>2.109316</td>\n",
       "      <td>1.519154</td>\n",
       "    </tr>\n",
       "    <tr>\n",
       "      <th>2013-01-04</th>\n",
       "      <td>-0.183908</td>\n",
       "      <td>0.934466</td>\n",
       "    </tr>\n",
       "    <tr>\n",
       "      <th>2013-01-05</th>\n",
       "      <td>0.137567</td>\n",
       "      <td>0.171558</td>\n",
       "    </tr>\n",
       "    <tr>\n",
       "      <th>2013-01-06</th>\n",
       "      <td>0.755962</td>\n",
       "      <td>0.998388</td>\n",
       "    </tr>\n",
       "  </tbody>\n",
       "</table>\n",
       "</div>"
      ],
      "text/plain": [
       "                   B         C\n",
       "2013-01-01  2.198873  1.499909\n",
       "2013-01-02  0.245186 -0.088227\n",
       "2013-01-03  2.109316  1.519154\n",
       "2013-01-04 -0.183908  0.934466\n",
       "2013-01-05  0.137567  0.171558\n",
       "2013-01-06  0.755962  0.998388"
      ]
     },
     "execution_count": 47,
     "metadata": {},
     "output_type": "execute_result"
    }
   ],
   "source": [
    "df.iloc[:,1:3]"
   ]
  },
  {
   "cell_type": "code",
   "execution_count": 48,
   "metadata": {
    "collapsed": false
   },
   "outputs": [
    {
     "data": {
      "text/plain": [
       "0.24518554746695206"
      ]
     },
     "execution_count": 48,
     "metadata": {},
     "output_type": "execute_result"
    }
   ],
   "source": [
    "df.iloc[1,1]"
   ]
  },
  {
   "cell_type": "code",
   "execution_count": 49,
   "metadata": {
    "collapsed": false
   },
   "outputs": [
    {
     "data": {
      "text/plain": [
       "0.24518554746695206"
      ]
     },
     "execution_count": 49,
     "metadata": {},
     "output_type": "execute_result"
    }
   ],
   "source": [
    "df.iat[1,1]"
   ]
  },
  {
   "cell_type": "markdown",
   "metadata": {},
   "source": [
    "#### Boolean Indexing"
   ]
  },
  {
   "cell_type": "code",
   "execution_count": 50,
   "metadata": {
    "collapsed": false
   },
   "outputs": [
    {
     "data": {
      "text/html": [
       "<div>\n",
       "<table border=\"1\" class=\"dataframe\">\n",
       "  <thead>\n",
       "    <tr style=\"text-align: right;\">\n",
       "      <th></th>\n",
       "      <th>A</th>\n",
       "      <th>B</th>\n",
       "      <th>C</th>\n",
       "      <th>D</th>\n",
       "    </tr>\n",
       "  </thead>\n",
       "  <tbody>\n",
       "    <tr>\n",
       "      <th>2013-01-01</th>\n",
       "      <td>1.431510</td>\n",
       "      <td>2.198873</td>\n",
       "      <td>1.499909</td>\n",
       "      <td>-0.860189</td>\n",
       "    </tr>\n",
       "    <tr>\n",
       "      <th>2013-01-03</th>\n",
       "      <td>0.901716</td>\n",
       "      <td>2.109316</td>\n",
       "      <td>1.519154</td>\n",
       "      <td>0.190347</td>\n",
       "    </tr>\n",
       "    <tr>\n",
       "      <th>2013-01-04</th>\n",
       "      <td>1.518263</td>\n",
       "      <td>-0.183908</td>\n",
       "      <td>0.934466</td>\n",
       "      <td>-1.678126</td>\n",
       "    </tr>\n",
       "    <tr>\n",
       "      <th>2013-01-05</th>\n",
       "      <td>0.241306</td>\n",
       "      <td>0.137567</td>\n",
       "      <td>0.171558</td>\n",
       "      <td>-0.856492</td>\n",
       "    </tr>\n",
       "  </tbody>\n",
       "</table>\n",
       "</div>"
      ],
      "text/plain": [
       "                   A         B         C         D\n",
       "2013-01-01  1.431510  2.198873  1.499909 -0.860189\n",
       "2013-01-03  0.901716  2.109316  1.519154  0.190347\n",
       "2013-01-04  1.518263 -0.183908  0.934466 -1.678126\n",
       "2013-01-05  0.241306  0.137567  0.171558 -0.856492"
      ]
     },
     "execution_count": 50,
     "metadata": {},
     "output_type": "execute_result"
    }
   ],
   "source": [
    "df[df.A > 0]"
   ]
  },
  {
   "cell_type": "code",
   "execution_count": 51,
   "metadata": {
    "collapsed": false
   },
   "outputs": [
    {
     "data": {
      "text/html": [
       "<div>\n",
       "<table border=\"1\" class=\"dataframe\">\n",
       "  <thead>\n",
       "    <tr style=\"text-align: right;\">\n",
       "      <th></th>\n",
       "      <th>A</th>\n",
       "      <th>B</th>\n",
       "      <th>C</th>\n",
       "      <th>D</th>\n",
       "    </tr>\n",
       "  </thead>\n",
       "  <tbody>\n",
       "    <tr>\n",
       "      <th>2013-01-01</th>\n",
       "      <td>1.431510</td>\n",
       "      <td>2.198873</td>\n",
       "      <td>1.499909</td>\n",
       "      <td>NaN</td>\n",
       "    </tr>\n",
       "    <tr>\n",
       "      <th>2013-01-02</th>\n",
       "      <td>NaN</td>\n",
       "      <td>0.245186</td>\n",
       "      <td>NaN</td>\n",
       "      <td>0.202495</td>\n",
       "    </tr>\n",
       "    <tr>\n",
       "      <th>2013-01-03</th>\n",
       "      <td>0.901716</td>\n",
       "      <td>2.109316</td>\n",
       "      <td>1.519154</td>\n",
       "      <td>0.190347</td>\n",
       "    </tr>\n",
       "    <tr>\n",
       "      <th>2013-01-04</th>\n",
       "      <td>1.518263</td>\n",
       "      <td>NaN</td>\n",
       "      <td>0.934466</td>\n",
       "      <td>NaN</td>\n",
       "    </tr>\n",
       "    <tr>\n",
       "      <th>2013-01-05</th>\n",
       "      <td>0.241306</td>\n",
       "      <td>0.137567</td>\n",
       "      <td>0.171558</td>\n",
       "      <td>NaN</td>\n",
       "    </tr>\n",
       "    <tr>\n",
       "      <th>2013-01-06</th>\n",
       "      <td>NaN</td>\n",
       "      <td>0.755962</td>\n",
       "      <td>0.998388</td>\n",
       "      <td>NaN</td>\n",
       "    </tr>\n",
       "  </tbody>\n",
       "</table>\n",
       "</div>"
      ],
      "text/plain": [
       "                   A         B         C         D\n",
       "2013-01-01  1.431510  2.198873  1.499909       NaN\n",
       "2013-01-02       NaN  0.245186       NaN  0.202495\n",
       "2013-01-03  0.901716  2.109316  1.519154  0.190347\n",
       "2013-01-04  1.518263       NaN  0.934466       NaN\n",
       "2013-01-05  0.241306  0.137567  0.171558       NaN\n",
       "2013-01-06       NaN  0.755962  0.998388       NaN"
      ]
     },
     "execution_count": 51,
     "metadata": {},
     "output_type": "execute_result"
    }
   ],
   "source": [
    "df[df > 0]"
   ]
  },
  {
   "cell_type": "markdown",
   "metadata": {},
   "source": [
    "## Missing Data"
   ]
  },
  {
   "cell_type": "markdown",
   "metadata": {},
   "source": [
    "## Getting Data In/Out"
   ]
  },
  {
   "cell_type": "markdown",
   "metadata": {},
   "source": [
    "#### Writing to a csv file"
   ]
  },
  {
   "cell_type": "code",
   "execution_count": 52,
   "metadata": {
    "collapsed": true
   },
   "outputs": [],
   "source": [
    "df.to_csv('foo.csv')"
   ]
  },
  {
   "cell_type": "markdown",
   "metadata": {},
   "source": [
    "#### Reading from a csv file"
   ]
  },
  {
   "cell_type": "code",
   "execution_count": 53,
   "metadata": {
    "collapsed": false
   },
   "outputs": [
    {
     "data": {
      "text/html": [
       "<div>\n",
       "<table border=\"1\" class=\"dataframe\">\n",
       "  <thead>\n",
       "    <tr style=\"text-align: right;\">\n",
       "      <th></th>\n",
       "      <th>Unnamed: 0</th>\n",
       "      <th>A</th>\n",
       "      <th>B</th>\n",
       "      <th>C</th>\n",
       "      <th>D</th>\n",
       "    </tr>\n",
       "  </thead>\n",
       "  <tbody>\n",
       "    <tr>\n",
       "      <th>0</th>\n",
       "      <td>2013-01-01</td>\n",
       "      <td>1.431510</td>\n",
       "      <td>2.198873</td>\n",
       "      <td>1.499909</td>\n",
       "      <td>-0.860189</td>\n",
       "    </tr>\n",
       "    <tr>\n",
       "      <th>1</th>\n",
       "      <td>2013-01-02</td>\n",
       "      <td>-0.490164</td>\n",
       "      <td>0.245186</td>\n",
       "      <td>-0.088227</td>\n",
       "      <td>0.202495</td>\n",
       "    </tr>\n",
       "    <tr>\n",
       "      <th>2</th>\n",
       "      <td>2013-01-03</td>\n",
       "      <td>0.901716</td>\n",
       "      <td>2.109316</td>\n",
       "      <td>1.519154</td>\n",
       "      <td>0.190347</td>\n",
       "    </tr>\n",
       "    <tr>\n",
       "      <th>3</th>\n",
       "      <td>2013-01-04</td>\n",
       "      <td>1.518263</td>\n",
       "      <td>-0.183908</td>\n",
       "      <td>0.934466</td>\n",
       "      <td>-1.678126</td>\n",
       "    </tr>\n",
       "    <tr>\n",
       "      <th>4</th>\n",
       "      <td>2013-01-05</td>\n",
       "      <td>0.241306</td>\n",
       "      <td>0.137567</td>\n",
       "      <td>0.171558</td>\n",
       "      <td>-0.856492</td>\n",
       "    </tr>\n",
       "    <tr>\n",
       "      <th>5</th>\n",
       "      <td>2013-01-06</td>\n",
       "      <td>-1.724195</td>\n",
       "      <td>0.755962</td>\n",
       "      <td>0.998388</td>\n",
       "      <td>-1.280674</td>\n",
       "    </tr>\n",
       "  </tbody>\n",
       "</table>\n",
       "</div>"
      ],
      "text/plain": [
       "   Unnamed: 0         A         B         C         D\n",
       "0  2013-01-01  1.431510  2.198873  1.499909 -0.860189\n",
       "1  2013-01-02 -0.490164  0.245186 -0.088227  0.202495\n",
       "2  2013-01-03  0.901716  2.109316  1.519154  0.190347\n",
       "3  2013-01-04  1.518263 -0.183908  0.934466 -1.678126\n",
       "4  2013-01-05  0.241306  0.137567  0.171558 -0.856492\n",
       "5  2013-01-06 -1.724195  0.755962  0.998388 -1.280674"
      ]
     },
     "execution_count": 53,
     "metadata": {},
     "output_type": "execute_result"
    }
   ],
   "source": [
    "pd.read_csv('foo.csv')"
   ]
  },
  {
   "cell_type": "code",
   "execution_count": 54,
   "metadata": {
    "collapsed": false
   },
   "outputs": [
    {
     "data": {
      "text/html": [
       "<div>\n",
       "<table border=\"1\" class=\"dataframe\">\n",
       "  <thead>\n",
       "    <tr style=\"text-align: right;\">\n",
       "      <th></th>\n",
       "      <th>id</th>\n",
       "      <th>time</th>\n",
       "    </tr>\n",
       "  </thead>\n",
       "  <tbody>\n",
       "    <tr>\n",
       "      <th>0</th>\n",
       "      <td>8cha0</td>\n",
       "      <td>2011/7/8 12:11:13</td>\n",
       "    </tr>\n",
       "    <tr>\n",
       "      <th>1</th>\n",
       "      <td>2cha061</td>\n",
       "      <td>2011/7/8 12:11:49</td>\n",
       "    </tr>\n",
       "    <tr>\n",
       "      <th>2</th>\n",
       "      <td>6cha437</td>\n",
       "      <td>2011/7/8 12:13:36</td>\n",
       "    </tr>\n",
       "    <tr>\n",
       "      <th>3</th>\n",
       "      <td>7cha1</td>\n",
       "      <td>2011/7/8 12:16:01</td>\n",
       "    </tr>\n",
       "    <tr>\n",
       "      <th>4</th>\n",
       "      <td>7cha1</td>\n",
       "      <td>2011/7/8 12:16:05</td>\n",
       "    </tr>\n",
       "    <tr>\n",
       "      <th>5</th>\n",
       "      <td>2cha061</td>\n",
       "      <td>2011/7/8 12:17:10</td>\n",
       "    </tr>\n",
       "    <tr>\n",
       "      <th>6</th>\n",
       "      <td>6cha437</td>\n",
       "      <td>2011/7/8 12:18:37</td>\n",
       "    </tr>\n",
       "    <tr>\n",
       "      <th>7</th>\n",
       "      <td>2cha061</td>\n",
       "      <td>2011/7/8 12:19:09</td>\n",
       "    </tr>\n",
       "    <tr>\n",
       "      <th>8</th>\n",
       "      <td>2cha061</td>\n",
       "      <td>2011/7/8 12:19:21</td>\n",
       "    </tr>\n",
       "    <tr>\n",
       "      <th>9</th>\n",
       "      <td>6cha437</td>\n",
       "      <td>2011/7/8 12:17:51</td>\n",
       "    </tr>\n",
       "    <tr>\n",
       "      <th>10</th>\n",
       "      <td>6cha437</td>\n",
       "      <td>2011/7/8 12:20:23</td>\n",
       "    </tr>\n",
       "    <tr>\n",
       "      <th>11</th>\n",
       "      <td>6cha437</td>\n",
       "      <td>2011/7/8 12:19:38</td>\n",
       "    </tr>\n",
       "    <tr>\n",
       "      <th>12</th>\n",
       "      <td>4cha387</td>\n",
       "      <td>2011/7/8 12:21:43</td>\n",
       "    </tr>\n",
       "    <tr>\n",
       "      <th>13</th>\n",
       "      <td>2cha061</td>\n",
       "      <td>2011/7/8 12:21:46</td>\n",
       "    </tr>\n",
       "    <tr>\n",
       "      <th>14</th>\n",
       "      <td>2cha093</td>\n",
       "      <td>2011/7/8 12:29:29</td>\n",
       "    </tr>\n",
       "    <tr>\n",
       "      <th>15</th>\n",
       "      <td>2cha061</td>\n",
       "      <td>2011/7/8 12:29:53</td>\n",
       "    </tr>\n",
       "    <tr>\n",
       "      <th>16</th>\n",
       "      <td>6cha437</td>\n",
       "      <td>2011/7/8 12:30:18</td>\n",
       "    </tr>\n",
       "    <tr>\n",
       "      <th>17</th>\n",
       "      <td>2cha093</td>\n",
       "      <td>2011/7/8 12:30:25</td>\n",
       "    </tr>\n",
       "    <tr>\n",
       "      <th>18</th>\n",
       "      <td>6cha437</td>\n",
       "      <td>2011/7/8 12:30:33</td>\n",
       "    </tr>\n",
       "    <tr>\n",
       "      <th>19</th>\n",
       "      <td>2cha061</td>\n",
       "      <td>2011/7/8 12:30:32</td>\n",
       "    </tr>\n",
       "    <tr>\n",
       "      <th>20</th>\n",
       "      <td>2cha093</td>\n",
       "      <td>2011/7/8 12:30:47</td>\n",
       "    </tr>\n",
       "    <tr>\n",
       "      <th>21</th>\n",
       "      <td>6cha437</td>\n",
       "      <td>2011/7/8 12:31:05</td>\n",
       "    </tr>\n",
       "    <tr>\n",
       "      <th>22</th>\n",
       "      <td>6cha437</td>\n",
       "      <td>2011/7/8 12:29:51</td>\n",
       "    </tr>\n",
       "    <tr>\n",
       "      <th>23</th>\n",
       "      <td>2cha093</td>\n",
       "      <td>2011/7/8 12:31:45</td>\n",
       "    </tr>\n",
       "    <tr>\n",
       "      <th>24</th>\n",
       "      <td>2cha061</td>\n",
       "      <td>2011/7/8 12:31:58</td>\n",
       "    </tr>\n",
       "    <tr>\n",
       "      <th>25</th>\n",
       "      <td>6cha437</td>\n",
       "      <td>2011/7/8 12:32:14</td>\n",
       "    </tr>\n",
       "    <tr>\n",
       "      <th>26</th>\n",
       "      <td>6cha437</td>\n",
       "      <td>2011/7/8 12:32:22</td>\n",
       "    </tr>\n",
       "    <tr>\n",
       "      <th>27</th>\n",
       "      <td>2cha093</td>\n",
       "      <td>2011/7/8 12:32:22</td>\n",
       "    </tr>\n",
       "    <tr>\n",
       "      <th>28</th>\n",
       "      <td>6cha437</td>\n",
       "      <td>2011/7/8 12:32:47</td>\n",
       "    </tr>\n",
       "    <tr>\n",
       "      <th>29</th>\n",
       "      <td>2cha093</td>\n",
       "      <td>2011/7/8 12:32:51</td>\n",
       "    </tr>\n",
       "    <tr>\n",
       "      <th>...</th>\n",
       "      <td>...</td>\n",
       "      <td>...</td>\n",
       "    </tr>\n",
       "    <tr>\n",
       "      <th>11532</th>\n",
       "      <td>8cha5910</td>\n",
       "      <td>2012/11/27 21:14:50</td>\n",
       "    </tr>\n",
       "    <tr>\n",
       "      <th>11533</th>\n",
       "      <td>6cha80</td>\n",
       "      <td>2012/11/27 21:15:36</td>\n",
       "    </tr>\n",
       "    <tr>\n",
       "      <th>11534</th>\n",
       "      <td>6cha437</td>\n",
       "      <td>2012/11/29 17:55:35</td>\n",
       "    </tr>\n",
       "    <tr>\n",
       "      <th>11535</th>\n",
       "      <td>6cha437</td>\n",
       "      <td>2012/11/29 17:55:41</td>\n",
       "    </tr>\n",
       "    <tr>\n",
       "      <th>11536</th>\n",
       "      <td>3cha7</td>\n",
       "      <td>2012/11/29 17:55:48</td>\n",
       "    </tr>\n",
       "    <tr>\n",
       "      <th>11537</th>\n",
       "      <td>3cha7</td>\n",
       "      <td>2012/11/29 17:55:53</td>\n",
       "    </tr>\n",
       "    <tr>\n",
       "      <th>11538</th>\n",
       "      <td>8cha180</td>\n",
       "      <td>2012/11/29 18:15:26</td>\n",
       "    </tr>\n",
       "    <tr>\n",
       "      <th>11539</th>\n",
       "      <td>4cha387</td>\n",
       "      <td>2012/11/29 21:44:33</td>\n",
       "    </tr>\n",
       "    <tr>\n",
       "      <th>11540</th>\n",
       "      <td>7cha1</td>\n",
       "      <td>2012/11/29 21:50:16</td>\n",
       "    </tr>\n",
       "    <tr>\n",
       "      <th>11541</th>\n",
       "      <td>4cha387</td>\n",
       "      <td>2012/11/29 21:56:19</td>\n",
       "    </tr>\n",
       "    <tr>\n",
       "      <th>11542</th>\n",
       "      <td>2cha</td>\n",
       "      <td>2012/11/29 21:56:30</td>\n",
       "    </tr>\n",
       "    <tr>\n",
       "      <th>11543</th>\n",
       "      <td>7cha1</td>\n",
       "      <td>2012/11/29 21:56:53</td>\n",
       "    </tr>\n",
       "    <tr>\n",
       "      <th>11544</th>\n",
       "      <td>7cha1</td>\n",
       "      <td>2012/11/29 21:56:55</td>\n",
       "    </tr>\n",
       "    <tr>\n",
       "      <th>11545</th>\n",
       "      <td>acha@vip.qq.co</td>\n",
       "      <td>2012/11/30 18:14:02</td>\n",
       "    </tr>\n",
       "    <tr>\n",
       "      <th>11546</th>\n",
       "      <td>6cha437</td>\n",
       "      <td>2012/11/30 18:14:33</td>\n",
       "    </tr>\n",
       "    <tr>\n",
       "      <th>11547</th>\n",
       "      <td>6cha437</td>\n",
       "      <td>2012/11/30 18:14:51</td>\n",
       "    </tr>\n",
       "    <tr>\n",
       "      <th>11548</th>\n",
       "      <td>acha@vip.qq.co</td>\n",
       "      <td>2012/11/30 18:14:52</td>\n",
       "    </tr>\n",
       "    <tr>\n",
       "      <th>11549</th>\n",
       "      <td>6cha437</td>\n",
       "      <td>2012/11/30 18:15:33</td>\n",
       "    </tr>\n",
       "    <tr>\n",
       "      <th>11550</th>\n",
       "      <td>acha@vip.qq.co</td>\n",
       "      <td>2012/11/30 18:15:51</td>\n",
       "    </tr>\n",
       "    <tr>\n",
       "      <th>11551</th>\n",
       "      <td>6cha437</td>\n",
       "      <td>2012/11/30 18:16:35</td>\n",
       "    </tr>\n",
       "    <tr>\n",
       "      <th>11552</th>\n",
       "      <td>7cha1</td>\n",
       "      <td>2012/11/30 18:26:02</td>\n",
       "    </tr>\n",
       "    <tr>\n",
       "      <th>11553</th>\n",
       "      <td>7cha1</td>\n",
       "      <td>2012/11/30 18:26:08</td>\n",
       "    </tr>\n",
       "    <tr>\n",
       "      <th>11554</th>\n",
       "      <td>acha@vip.qq.co</td>\n",
       "      <td>2012/11/30 18:26:30</td>\n",
       "    </tr>\n",
       "    <tr>\n",
       "      <th>11555</th>\n",
       "      <td>7cha1</td>\n",
       "      <td>2012/11/30 18:26:43</td>\n",
       "    </tr>\n",
       "    <tr>\n",
       "      <th>11556</th>\n",
       "      <td>acha@vip.qq.co</td>\n",
       "      <td>2012/11/30 18:26:51</td>\n",
       "    </tr>\n",
       "    <tr>\n",
       "      <th>11557</th>\n",
       "      <td>acha@vip.qq.co</td>\n",
       "      <td>2012/11/30 18:26:58</td>\n",
       "    </tr>\n",
       "    <tr>\n",
       "      <th>11558</th>\n",
       "      <td>6cha437</td>\n",
       "      <td>2012/11/30 18:27:27</td>\n",
       "    </tr>\n",
       "    <tr>\n",
       "      <th>11559</th>\n",
       "      <td>6cha437</td>\n",
       "      <td>2012/11/30 18:27:43</td>\n",
       "    </tr>\n",
       "    <tr>\n",
       "      <th>11560</th>\n",
       "      <td>7cha1</td>\n",
       "      <td>2012/11/30 18:28:24</td>\n",
       "    </tr>\n",
       "    <tr>\n",
       "      <th>11561</th>\n",
       "      <td>7cha1</td>\n",
       "      <td>2012/11/30 18:28:28</td>\n",
       "    </tr>\n",
       "  </tbody>\n",
       "</table>\n",
       "<p>11562 rows × 2 columns</p>\n",
       "</div>"
      ],
      "text/plain": [
       "                   id                 time\n",
       "0               8cha0    2011/7/8 12:11:13\n",
       "1             2cha061    2011/7/8 12:11:49\n",
       "2             6cha437    2011/7/8 12:13:36\n",
       "3               7cha1    2011/7/8 12:16:01\n",
       "4               7cha1    2011/7/8 12:16:05\n",
       "5             2cha061    2011/7/8 12:17:10\n",
       "6             6cha437    2011/7/8 12:18:37\n",
       "7             2cha061    2011/7/8 12:19:09\n",
       "8             2cha061    2011/7/8 12:19:21\n",
       "9             6cha437    2011/7/8 12:17:51\n",
       "10            6cha437    2011/7/8 12:20:23\n",
       "11            6cha437    2011/7/8 12:19:38\n",
       "12            4cha387    2011/7/8 12:21:43\n",
       "13            2cha061    2011/7/8 12:21:46\n",
       "14            2cha093    2011/7/8 12:29:29\n",
       "15            2cha061    2011/7/8 12:29:53\n",
       "16            6cha437    2011/7/8 12:30:18\n",
       "17            2cha093    2011/7/8 12:30:25\n",
       "18            6cha437    2011/7/8 12:30:33\n",
       "19            2cha061    2011/7/8 12:30:32\n",
       "20            2cha093    2011/7/8 12:30:47\n",
       "21            6cha437    2011/7/8 12:31:05\n",
       "22            6cha437    2011/7/8 12:29:51\n",
       "23            2cha093    2011/7/8 12:31:45\n",
       "24            2cha061    2011/7/8 12:31:58\n",
       "25            6cha437    2011/7/8 12:32:14\n",
       "26            6cha437    2011/7/8 12:32:22\n",
       "27            2cha093    2011/7/8 12:32:22\n",
       "28            6cha437    2011/7/8 12:32:47\n",
       "29            2cha093    2011/7/8 12:32:51\n",
       "...               ...                  ...\n",
       "11532        8cha5910  2012/11/27 21:14:50\n",
       "11533          6cha80  2012/11/27 21:15:36\n",
       "11534         6cha437  2012/11/29 17:55:35\n",
       "11535         6cha437  2012/11/29 17:55:41\n",
       "11536           3cha7  2012/11/29 17:55:48\n",
       "11537           3cha7  2012/11/29 17:55:53\n",
       "11538         8cha180  2012/11/29 18:15:26\n",
       "11539         4cha387  2012/11/29 21:44:33\n",
       "11540           7cha1  2012/11/29 21:50:16\n",
       "11541         4cha387  2012/11/29 21:56:19\n",
       "11542            2cha  2012/11/29 21:56:30\n",
       "11543           7cha1  2012/11/29 21:56:53\n",
       "11544           7cha1  2012/11/29 21:56:55\n",
       "11545  acha@vip.qq.co  2012/11/30 18:14:02\n",
       "11546         6cha437  2012/11/30 18:14:33\n",
       "11547         6cha437  2012/11/30 18:14:51\n",
       "11548  acha@vip.qq.co  2012/11/30 18:14:52\n",
       "11549         6cha437  2012/11/30 18:15:33\n",
       "11550  acha@vip.qq.co  2012/11/30 18:15:51\n",
       "11551         6cha437  2012/11/30 18:16:35\n",
       "11552           7cha1  2012/11/30 18:26:02\n",
       "11553           7cha1  2012/11/30 18:26:08\n",
       "11554  acha@vip.qq.co  2012/11/30 18:26:30\n",
       "11555           7cha1  2012/11/30 18:26:43\n",
       "11556  acha@vip.qq.co  2012/11/30 18:26:51\n",
       "11557  acha@vip.qq.co  2012/11/30 18:26:58\n",
       "11558         6cha437  2012/11/30 18:27:27\n",
       "11559         6cha437  2012/11/30 18:27:43\n",
       "11560           7cha1  2012/11/30 18:28:24\n",
       "11561           7cha1  2012/11/30 18:28:28\n",
       "\n",
       "[11562 rows x 2 columns]"
      ]
     },
     "execution_count": 54,
     "metadata": {},
     "output_type": "execute_result"
    }
   ],
   "source": [
    "pd.read_csv('qqdata.csv')"
   ]
  },
  {
   "cell_type": "markdown",
   "metadata": {},
   "source": [
    "#### Writing to an excel file"
   ]
  },
  {
   "cell_type": "code",
   "execution_count": 55,
   "metadata": {
    "collapsed": true
   },
   "outputs": [],
   "source": [
    "df.to_excel('foo.xlsx', sheet_name='Sheet1')"
   ]
  },
  {
   "cell_type": "markdown",
   "metadata": {},
   "source": [
    "#### Reading from an excel file"
   ]
  },
  {
   "cell_type": "code",
   "execution_count": 56,
   "metadata": {
    "collapsed": false
   },
   "outputs": [
    {
     "data": {
      "text/html": [
       "<div>\n",
       "<table border=\"1\" class=\"dataframe\">\n",
       "  <thead>\n",
       "    <tr style=\"text-align: right;\">\n",
       "      <th></th>\n",
       "      <th>A</th>\n",
       "      <th>B</th>\n",
       "      <th>C</th>\n",
       "      <th>D</th>\n",
       "    </tr>\n",
       "  </thead>\n",
       "  <tbody>\n",
       "    <tr>\n",
       "      <th>2013-01-01</th>\n",
       "      <td>1.431510</td>\n",
       "      <td>2.198873</td>\n",
       "      <td>1.499909</td>\n",
       "      <td>-0.860189</td>\n",
       "    </tr>\n",
       "    <tr>\n",
       "      <th>2013-01-02</th>\n",
       "      <td>-0.490164</td>\n",
       "      <td>0.245186</td>\n",
       "      <td>-0.088227</td>\n",
       "      <td>0.202495</td>\n",
       "    </tr>\n",
       "    <tr>\n",
       "      <th>2013-01-03</th>\n",
       "      <td>0.901716</td>\n",
       "      <td>2.109316</td>\n",
       "      <td>1.519154</td>\n",
       "      <td>0.190347</td>\n",
       "    </tr>\n",
       "    <tr>\n",
       "      <th>2013-01-04</th>\n",
       "      <td>1.518263</td>\n",
       "      <td>-0.183908</td>\n",
       "      <td>0.934466</td>\n",
       "      <td>-1.678126</td>\n",
       "    </tr>\n",
       "    <tr>\n",
       "      <th>2013-01-05</th>\n",
       "      <td>0.241306</td>\n",
       "      <td>0.137567</td>\n",
       "      <td>0.171558</td>\n",
       "      <td>-0.856492</td>\n",
       "    </tr>\n",
       "    <tr>\n",
       "      <th>2013-01-06</th>\n",
       "      <td>-1.724195</td>\n",
       "      <td>0.755962</td>\n",
       "      <td>0.998388</td>\n",
       "      <td>-1.280674</td>\n",
       "    </tr>\n",
       "  </tbody>\n",
       "</table>\n",
       "</div>"
      ],
      "text/plain": [
       "                   A         B         C         D\n",
       "2013-01-01  1.431510  2.198873  1.499909 -0.860189\n",
       "2013-01-02 -0.490164  0.245186 -0.088227  0.202495\n",
       "2013-01-03  0.901716  2.109316  1.519154  0.190347\n",
       "2013-01-04  1.518263 -0.183908  0.934466 -1.678126\n",
       "2013-01-05  0.241306  0.137567  0.171558 -0.856492\n",
       "2013-01-06 -1.724195  0.755962  0.998388 -1.280674"
      ]
     },
     "execution_count": 56,
     "metadata": {},
     "output_type": "execute_result"
    }
   ],
   "source": [
    "pd.read_excel('foo.xlsx', 'Sheet1', index_col=None, na_values=['NA'])"
   ]
  },
  {
   "cell_type": "markdown",
   "metadata": {},
   "source": [
    "#### Writing to a HDF5 Store"
   ]
  },
  {
   "cell_type": "code",
   "execution_count": 58,
   "metadata": {
    "collapsed": false
   },
   "outputs": [],
   "source": [
    "df.to_hdf('foo.h5','df')"
   ]
  },
  {
   "cell_type": "markdown",
   "metadata": {},
   "source": [
    "#### Reading from a HDF5 Store"
   ]
  },
  {
   "cell_type": "code",
   "execution_count": 59,
   "metadata": {
    "collapsed": false
   },
   "outputs": [
    {
     "data": {
      "text/html": [
       "<div>\n",
       "<table border=\"1\" class=\"dataframe\">\n",
       "  <thead>\n",
       "    <tr style=\"text-align: right;\">\n",
       "      <th></th>\n",
       "      <th>A</th>\n",
       "      <th>B</th>\n",
       "      <th>C</th>\n",
       "      <th>D</th>\n",
       "    </tr>\n",
       "  </thead>\n",
       "  <tbody>\n",
       "    <tr>\n",
       "      <th>2013-01-01</th>\n",
       "      <td>1.431510</td>\n",
       "      <td>2.198873</td>\n",
       "      <td>1.499909</td>\n",
       "      <td>-0.860189</td>\n",
       "    </tr>\n",
       "    <tr>\n",
       "      <th>2013-01-02</th>\n",
       "      <td>-0.490164</td>\n",
       "      <td>0.245186</td>\n",
       "      <td>-0.088227</td>\n",
       "      <td>0.202495</td>\n",
       "    </tr>\n",
       "    <tr>\n",
       "      <th>2013-01-03</th>\n",
       "      <td>0.901716</td>\n",
       "      <td>2.109316</td>\n",
       "      <td>1.519154</td>\n",
       "      <td>0.190347</td>\n",
       "    </tr>\n",
       "    <tr>\n",
       "      <th>2013-01-04</th>\n",
       "      <td>1.518263</td>\n",
       "      <td>-0.183908</td>\n",
       "      <td>0.934466</td>\n",
       "      <td>-1.678126</td>\n",
       "    </tr>\n",
       "    <tr>\n",
       "      <th>2013-01-05</th>\n",
       "      <td>0.241306</td>\n",
       "      <td>0.137567</td>\n",
       "      <td>0.171558</td>\n",
       "      <td>-0.856492</td>\n",
       "    </tr>\n",
       "    <tr>\n",
       "      <th>2013-01-06</th>\n",
       "      <td>-1.724195</td>\n",
       "      <td>0.755962</td>\n",
       "      <td>0.998388</td>\n",
       "      <td>-1.280674</td>\n",
       "    </tr>\n",
       "  </tbody>\n",
       "</table>\n",
       "</div>"
      ],
      "text/plain": [
       "                   A         B         C         D\n",
       "2013-01-01  1.431510  2.198873  1.499909 -0.860189\n",
       "2013-01-02 -0.490164  0.245186 -0.088227  0.202495\n",
       "2013-01-03  0.901716  2.109316  1.519154  0.190347\n",
       "2013-01-04  1.518263 -0.183908  0.934466 -1.678126\n",
       "2013-01-05  0.241306  0.137567  0.171558 -0.856492\n",
       "2013-01-06 -1.724195  0.755962  0.998388 -1.280674"
      ]
     },
     "execution_count": 59,
     "metadata": {},
     "output_type": "execute_result"
    }
   ],
   "source": [
    "pd.read_hdf('foo.h5','df')"
   ]
  },
  {
   "cell_type": "markdown",
   "metadata": {},
   "source": [
    "http://data.earthquake.cn/datashare/globeEarthquake_csn.html"
   ]
  },
  {
   "cell_type": "markdown",
   "metadata": {},
   "source": [
    "#### Read_html"
   ]
  },
  {
   "cell_type": "code",
   "execution_count": 79,
   "metadata": {
    "collapsed": true
   },
   "outputs": [],
   "source": [
    "url='http://data.earthquake.cn/datashare/globeEarthquake_csn.html'"
   ]
  },
  {
   "cell_type": "code",
   "execution_count": 80,
   "metadata": {
    "collapsed": false
   },
   "outputs": [
    {
     "ename": "SyntaxError",
     "evalue": "invalid syntax (<ipython-input-80-8d5d46a4f77c>, line 1)",
     "output_type": "error",
     "traceback": [
      "\u001b[0;36m  File \u001b[0;32m\"<ipython-input-80-8d5d46a4f77c>\"\u001b[0;36m, line \u001b[0;32m1\u001b[0m\n\u001b[0;31m    dfs＝pd.read_html(url)\u001b[0m\n\u001b[0m       ^\u001b[0m\n\u001b[0;31mSyntaxError\u001b[0m\u001b[0;31m:\u001b[0m invalid syntax\n"
     ]
    }
   ],
   "source": [
    "dfs＝pd.read_html(url)"
   ]
  },
  {
   "cell_type": "code",
   "execution_count": 83,
   "metadata": {
    "collapsed": false
   },
   "outputs": [],
   "source": [
    "import pandas as pd\n",
    "import requests\n",
    "import numpy as np\n",
    "import matplotlib.pyplot as plt\n",
    "%matplotlib inline"
   ]
  },
  {
   "cell_type": "code",
   "execution_count": null,
   "metadata": {
    "collapsed": true
   },
   "outputs": [],
   "source": [
    "import pandas as pd\n",
    "import numpy as np\n",
    "from pandas_datareader import data, wb"
   ]
  },
  {
   "cell_type": "code",
   "execution_count": null,
   "metadata": {
    "collapsed": true
   },
   "outputs": [],
   "source": [
    "import requests\n",
    "from bs4 import BeautifulSoup as bs\n",
    "import pandas as pd\n",
    "import numpy as np\n",
    "res = requests.get(\"http://data.earthquake.cn/datashare/globeEarthquake_csn.html\")\n",
    "res.encoding = 'gb18030'\n",
    "soup = bs(res.text)\n",
    "tb = soup.select('table')[5]\n",
    "date = [tr.select('td')[0].text for tr in tb.select('tr')]\n",
    "time = [tr.select('td')[1].text for tr in tb.select('tr')]\n",
    "lat = [tr.select('td')[2].text for tr in tb.select('tr')]\n",
    "lon = [tr.select('td')[3].text for tr in tb.select('tr')]\n",
    "depth = [tr.select('td')[4].text for tr in tb.select('tr')]\n",
    "lvl = [tr.select('td')[5].text for tr in tb.select('tr')]\n",
    "etype = [tr.select('td')[6].text for tr in tb.select('tr')]\n",
    "place = [tr.select('td')[7].text for tr in tb.select('tr')]\n",
    "edf = pd.DataFrame({'date': date[1::], 'time': time[1::], 'lon': lon[1::], \n",
    "                    'lat': lat[1::], 'depth':depth[1::], 'lvl':lvl[1::], 'etype':etype[1::], 'place':place[1::]})\n",
    "\n",
    "edf.head()"
   ]
  },
  {
   "cell_type": "code",
   "execution_count": 88,
   "metadata": {
    "collapsed": false
   },
   "outputs": [
    {
     "ename": "SyntaxError",
     "evalue": "invalid syntax (<ipython-input-88-16663e45080a>, line 1)",
     "output_type": "error",
     "traceback": [
      "\u001b[0;36m  File \u001b[0;32m\"<ipython-input-88-16663e45080a>\"\u001b[0;36m, line \u001b[0;32m1\u001b[0m\n\u001b[0;31m    pip install pandas_datareader\u001b[0m\n\u001b[0m              ^\u001b[0m\n\u001b[0;31mSyntaxError\u001b[0m\u001b[0;31m:\u001b[0m invalid syntax\n"
     ]
    }
   ],
   "source": [
    "pip install pandas_datareader"
   ]
  },
  {
   "cell_type": "code",
   "execution_count": 89,
   "metadata": {
    "collapsed": false
   },
   "outputs": [
    {
     "data": {
      "text/html": [
       "<div>\n",
       "<table border=\"1\" class=\"dataframe\">\n",
       "  <thead>\n",
       "    <tr style=\"text-align: right;\">\n",
       "      <th></th>\n",
       "      <th>id</th>\n",
       "      <th>time</th>\n",
       "    </tr>\n",
       "  </thead>\n",
       "  <tbody>\n",
       "    <tr>\n",
       "      <th>0</th>\n",
       "      <td>8cha0</td>\n",
       "      <td>2011/7/8 12:11</td>\n",
       "    </tr>\n",
       "    <tr>\n",
       "      <th>1</th>\n",
       "      <td>2cha061</td>\n",
       "      <td>2011/7/8 12:11</td>\n",
       "    </tr>\n",
       "    <tr>\n",
       "      <th>2</th>\n",
       "      <td>6cha437</td>\n",
       "      <td>2011/7/8 12:13</td>\n",
       "    </tr>\n",
       "    <tr>\n",
       "      <th>3</th>\n",
       "      <td>7cha1</td>\n",
       "      <td>2011/7/8 12:16</td>\n",
       "    </tr>\n",
       "    <tr>\n",
       "      <th>4</th>\n",
       "      <td>7cha1</td>\n",
       "      <td>2011/7/8 12:16</td>\n",
       "    </tr>\n",
       "    <tr>\n",
       "      <th>5</th>\n",
       "      <td>2cha061</td>\n",
       "      <td>2011/7/8 12:17</td>\n",
       "    </tr>\n",
       "    <tr>\n",
       "      <th>6</th>\n",
       "      <td>6cha437</td>\n",
       "      <td>2011/7/8 12:18</td>\n",
       "    </tr>\n",
       "    <tr>\n",
       "      <th>7</th>\n",
       "      <td>2cha061</td>\n",
       "      <td>2011/7/8 12:19</td>\n",
       "    </tr>\n",
       "    <tr>\n",
       "      <th>8</th>\n",
       "      <td>2cha061</td>\n",
       "      <td>2011/7/8 12:19</td>\n",
       "    </tr>\n",
       "    <tr>\n",
       "      <th>9</th>\n",
       "      <td>6cha437</td>\n",
       "      <td>2011/7/8 12:17</td>\n",
       "    </tr>\n",
       "    <tr>\n",
       "      <th>10</th>\n",
       "      <td>6cha437</td>\n",
       "      <td>2011/7/8 12:20</td>\n",
       "    </tr>\n",
       "    <tr>\n",
       "      <th>11</th>\n",
       "      <td>6cha437</td>\n",
       "      <td>2011/7/8 12:19</td>\n",
       "    </tr>\n",
       "    <tr>\n",
       "      <th>12</th>\n",
       "      <td>4cha387</td>\n",
       "      <td>2011/7/8 12:21</td>\n",
       "    </tr>\n",
       "    <tr>\n",
       "      <th>13</th>\n",
       "      <td>2cha061</td>\n",
       "      <td>2011/7/8 12:21</td>\n",
       "    </tr>\n",
       "    <tr>\n",
       "      <th>14</th>\n",
       "      <td>2cha093</td>\n",
       "      <td>2011/7/8 12:29</td>\n",
       "    </tr>\n",
       "    <tr>\n",
       "      <th>15</th>\n",
       "      <td>2cha061</td>\n",
       "      <td>2011/7/8 12:29</td>\n",
       "    </tr>\n",
       "    <tr>\n",
       "      <th>16</th>\n",
       "      <td>6cha437</td>\n",
       "      <td>2011/7/8 12:30</td>\n",
       "    </tr>\n",
       "    <tr>\n",
       "      <th>17</th>\n",
       "      <td>2cha093</td>\n",
       "      <td>2011/7/8 12:30</td>\n",
       "    </tr>\n",
       "    <tr>\n",
       "      <th>18</th>\n",
       "      <td>6cha437</td>\n",
       "      <td>2011/7/8 12:30</td>\n",
       "    </tr>\n",
       "    <tr>\n",
       "      <th>19</th>\n",
       "      <td>2cha061</td>\n",
       "      <td>2011/7/8 12:30</td>\n",
       "    </tr>\n",
       "    <tr>\n",
       "      <th>20</th>\n",
       "      <td>2cha093</td>\n",
       "      <td>2011/7/8 12:30</td>\n",
       "    </tr>\n",
       "    <tr>\n",
       "      <th>21</th>\n",
       "      <td>6cha437</td>\n",
       "      <td>2011/7/8 12:31</td>\n",
       "    </tr>\n",
       "    <tr>\n",
       "      <th>22</th>\n",
       "      <td>6cha437</td>\n",
       "      <td>2011/7/8 12:29</td>\n",
       "    </tr>\n",
       "    <tr>\n",
       "      <th>23</th>\n",
       "      <td>2cha093</td>\n",
       "      <td>2011/7/8 12:31</td>\n",
       "    </tr>\n",
       "    <tr>\n",
       "      <th>24</th>\n",
       "      <td>2cha061</td>\n",
       "      <td>2011/7/8 12:31</td>\n",
       "    </tr>\n",
       "    <tr>\n",
       "      <th>25</th>\n",
       "      <td>6cha437</td>\n",
       "      <td>2011/7/8 12:32</td>\n",
       "    </tr>\n",
       "    <tr>\n",
       "      <th>26</th>\n",
       "      <td>6cha437</td>\n",
       "      <td>2011/7/8 12:32</td>\n",
       "    </tr>\n",
       "    <tr>\n",
       "      <th>27</th>\n",
       "      <td>2cha093</td>\n",
       "      <td>2011/7/8 12:32</td>\n",
       "    </tr>\n",
       "    <tr>\n",
       "      <th>28</th>\n",
       "      <td>6cha437</td>\n",
       "      <td>2011/7/8 12:32</td>\n",
       "    </tr>\n",
       "    <tr>\n",
       "      <th>29</th>\n",
       "      <td>2cha093</td>\n",
       "      <td>2011/7/8 12:32</td>\n",
       "    </tr>\n",
       "    <tr>\n",
       "      <th>...</th>\n",
       "      <td>...</td>\n",
       "      <td>...</td>\n",
       "    </tr>\n",
       "    <tr>\n",
       "      <th>11532</th>\n",
       "      <td>8cha5910</td>\n",
       "      <td>2012/11/27 21:14</td>\n",
       "    </tr>\n",
       "    <tr>\n",
       "      <th>11533</th>\n",
       "      <td>6cha80</td>\n",
       "      <td>2012/11/27 21:15</td>\n",
       "    </tr>\n",
       "    <tr>\n",
       "      <th>11534</th>\n",
       "      <td>6cha437</td>\n",
       "      <td>2012/11/29 17:55</td>\n",
       "    </tr>\n",
       "    <tr>\n",
       "      <th>11535</th>\n",
       "      <td>6cha437</td>\n",
       "      <td>2012/11/29 17:55</td>\n",
       "    </tr>\n",
       "    <tr>\n",
       "      <th>11536</th>\n",
       "      <td>3cha7</td>\n",
       "      <td>2012/11/29 17:55</td>\n",
       "    </tr>\n",
       "    <tr>\n",
       "      <th>11537</th>\n",
       "      <td>3cha7</td>\n",
       "      <td>2012/11/29 17:55</td>\n",
       "    </tr>\n",
       "    <tr>\n",
       "      <th>11538</th>\n",
       "      <td>8cha180</td>\n",
       "      <td>2012/11/29 18:15</td>\n",
       "    </tr>\n",
       "    <tr>\n",
       "      <th>11539</th>\n",
       "      <td>4cha387</td>\n",
       "      <td>2012/11/29 21:44</td>\n",
       "    </tr>\n",
       "    <tr>\n",
       "      <th>11540</th>\n",
       "      <td>7cha1</td>\n",
       "      <td>2012/11/29 21:50</td>\n",
       "    </tr>\n",
       "    <tr>\n",
       "      <th>11541</th>\n",
       "      <td>4cha387</td>\n",
       "      <td>2012/11/29 21:56</td>\n",
       "    </tr>\n",
       "    <tr>\n",
       "      <th>11542</th>\n",
       "      <td>2cha</td>\n",
       "      <td>2012/11/29 21:56</td>\n",
       "    </tr>\n",
       "    <tr>\n",
       "      <th>11543</th>\n",
       "      <td>7cha1</td>\n",
       "      <td>2012/11/29 21:56</td>\n",
       "    </tr>\n",
       "    <tr>\n",
       "      <th>11544</th>\n",
       "      <td>7cha1</td>\n",
       "      <td>2012/11/29 21:56</td>\n",
       "    </tr>\n",
       "    <tr>\n",
       "      <th>11545</th>\n",
       "      <td>acha@vip.qq.co</td>\n",
       "      <td>2012/11/30 18:14</td>\n",
       "    </tr>\n",
       "    <tr>\n",
       "      <th>11546</th>\n",
       "      <td>6cha437</td>\n",
       "      <td>2012/11/30 18:14</td>\n",
       "    </tr>\n",
       "    <tr>\n",
       "      <th>11547</th>\n",
       "      <td>6cha437</td>\n",
       "      <td>2012/11/30 18:14</td>\n",
       "    </tr>\n",
       "    <tr>\n",
       "      <th>11548</th>\n",
       "      <td>acha@vip.qq.co</td>\n",
       "      <td>2012/11/30 18:14</td>\n",
       "    </tr>\n",
       "    <tr>\n",
       "      <th>11549</th>\n",
       "      <td>6cha437</td>\n",
       "      <td>2012/11/30 18:15</td>\n",
       "    </tr>\n",
       "    <tr>\n",
       "      <th>11550</th>\n",
       "      <td>acha@vip.qq.co</td>\n",
       "      <td>2012/11/30 18:15</td>\n",
       "    </tr>\n",
       "    <tr>\n",
       "      <th>11551</th>\n",
       "      <td>6cha437</td>\n",
       "      <td>2012/11/30 18:16</td>\n",
       "    </tr>\n",
       "    <tr>\n",
       "      <th>11552</th>\n",
       "      <td>7cha1</td>\n",
       "      <td>2012/11/30 18:26</td>\n",
       "    </tr>\n",
       "    <tr>\n",
       "      <th>11553</th>\n",
       "      <td>7cha1</td>\n",
       "      <td>2012/11/30 18:26</td>\n",
       "    </tr>\n",
       "    <tr>\n",
       "      <th>11554</th>\n",
       "      <td>acha@vip.qq.co</td>\n",
       "      <td>2012/11/30 18:26</td>\n",
       "    </tr>\n",
       "    <tr>\n",
       "      <th>11555</th>\n",
       "      <td>7cha1</td>\n",
       "      <td>2012/11/30 18:26</td>\n",
       "    </tr>\n",
       "    <tr>\n",
       "      <th>11556</th>\n",
       "      <td>acha@vip.qq.co</td>\n",
       "      <td>2012/11/30 18:26</td>\n",
       "    </tr>\n",
       "    <tr>\n",
       "      <th>11557</th>\n",
       "      <td>acha@vip.qq.co</td>\n",
       "      <td>2012/11/30 18:26</td>\n",
       "    </tr>\n",
       "    <tr>\n",
       "      <th>11558</th>\n",
       "      <td>6cha437</td>\n",
       "      <td>2012/11/30 18:27</td>\n",
       "    </tr>\n",
       "    <tr>\n",
       "      <th>11559</th>\n",
       "      <td>6cha437</td>\n",
       "      <td>2012/11/30 18:27</td>\n",
       "    </tr>\n",
       "    <tr>\n",
       "      <th>11560</th>\n",
       "      <td>7cha1</td>\n",
       "      <td>2012/11/30 18:28</td>\n",
       "    </tr>\n",
       "    <tr>\n",
       "      <th>11561</th>\n",
       "      <td>7cha1</td>\n",
       "      <td>2012/11/30 18:28</td>\n",
       "    </tr>\n",
       "  </tbody>\n",
       "</table>\n",
       "<p>11562 rows × 2 columns</p>\n",
       "</div>"
      ],
      "text/plain": [
       "                   id              time\n",
       "0               8cha0    2011/7/8 12:11\n",
       "1             2cha061    2011/7/8 12:11\n",
       "2             6cha437    2011/7/8 12:13\n",
       "3               7cha1    2011/7/8 12:16\n",
       "4               7cha1    2011/7/8 12:16\n",
       "5             2cha061    2011/7/8 12:17\n",
       "6             6cha437    2011/7/8 12:18\n",
       "7             2cha061    2011/7/8 12:19\n",
       "8             2cha061    2011/7/8 12:19\n",
       "9             6cha437    2011/7/8 12:17\n",
       "10            6cha437    2011/7/8 12:20\n",
       "11            6cha437    2011/7/8 12:19\n",
       "12            4cha387    2011/7/8 12:21\n",
       "13            2cha061    2011/7/8 12:21\n",
       "14            2cha093    2011/7/8 12:29\n",
       "15            2cha061    2011/7/8 12:29\n",
       "16            6cha437    2011/7/8 12:30\n",
       "17            2cha093    2011/7/8 12:30\n",
       "18            6cha437    2011/7/8 12:30\n",
       "19            2cha061    2011/7/8 12:30\n",
       "20            2cha093    2011/7/8 12:30\n",
       "21            6cha437    2011/7/8 12:31\n",
       "22            6cha437    2011/7/8 12:29\n",
       "23            2cha093    2011/7/8 12:31\n",
       "24            2cha061    2011/7/8 12:31\n",
       "25            6cha437    2011/7/8 12:32\n",
       "26            6cha437    2011/7/8 12:32\n",
       "27            2cha093    2011/7/8 12:32\n",
       "28            6cha437    2011/7/8 12:32\n",
       "29            2cha093    2011/7/8 12:32\n",
       "...               ...               ...\n",
       "11532        8cha5910  2012/11/27 21:14\n",
       "11533          6cha80  2012/11/27 21:15\n",
       "11534         6cha437  2012/11/29 17:55\n",
       "11535         6cha437  2012/11/29 17:55\n",
       "11536           3cha7  2012/11/29 17:55\n",
       "11537           3cha7  2012/11/29 17:55\n",
       "11538         8cha180  2012/11/29 18:15\n",
       "11539         4cha387  2012/11/29 21:44\n",
       "11540           7cha1  2012/11/29 21:50\n",
       "11541         4cha387  2012/11/29 21:56\n",
       "11542            2cha  2012/11/29 21:56\n",
       "11543           7cha1  2012/11/29 21:56\n",
       "11544           7cha1  2012/11/29 21:56\n",
       "11545  acha@vip.qq.co  2012/11/30 18:14\n",
       "11546         6cha437  2012/11/30 18:14\n",
       "11547         6cha437  2012/11/30 18:14\n",
       "11548  acha@vip.qq.co  2012/11/30 18:14\n",
       "11549         6cha437  2012/11/30 18:15\n",
       "11550  acha@vip.qq.co  2012/11/30 18:15\n",
       "11551         6cha437  2012/11/30 18:16\n",
       "11552           7cha1  2012/11/30 18:26\n",
       "11553           7cha1  2012/11/30 18:26\n",
       "11554  acha@vip.qq.co  2012/11/30 18:26\n",
       "11555           7cha1  2012/11/30 18:26\n",
       "11556  acha@vip.qq.co  2012/11/30 18:26\n",
       "11557  acha@vip.qq.co  2012/11/30 18:26\n",
       "11558         6cha437  2012/11/30 18:27\n",
       "11559         6cha437  2012/11/30 18:27\n",
       "11560           7cha1  2012/11/30 18:28\n",
       "11561           7cha1  2012/11/30 18:28\n",
       "\n",
       "[11562 rows x 2 columns]"
      ]
     },
     "execution_count": 89,
     "metadata": {},
     "output_type": "execute_result"
    }
   ],
   "source": [
    "pd.read_csv('qqdata.csv')"
   ]
  },
  {
   "cell_type": "code",
   "execution_count": 90,
   "metadata": {
    "collapsed": false,
    "scrolled": true
   },
   "outputs": [
    {
     "data": {
      "text/html": [
       "<div>\n",
       "<table border=\"1\" class=\"dataframe\">\n",
       "  <thead>\n",
       "    <tr style=\"text-align: right;\">\n",
       "      <th></th>\n",
       "      <th>Date</th>\n",
       "      <th>Open</th>\n",
       "      <th>High</th>\n",
       "      <th>Low</th>\n",
       "      <th>Close</th>\n",
       "      <th>Volume</th>\n",
       "      <th>Adj Close</th>\n",
       "    </tr>\n",
       "  </thead>\n",
       "  <tbody>\n",
       "    <tr>\n",
       "      <th>0</th>\n",
       "      <td>2016/5/27</td>\n",
       "      <td>2821.05</td>\n",
       "      <td>2821.05</td>\n",
       "      <td>2821.05</td>\n",
       "      <td>2821.05</td>\n",
       "      <td>0</td>\n",
       "      <td>2821.05</td>\n",
       "    </tr>\n",
       "    <tr>\n",
       "      <th>1</th>\n",
       "      <td>2016/5/25</td>\n",
       "      <td>2815.09</td>\n",
       "      <td>2815.09</td>\n",
       "      <td>2815.09</td>\n",
       "      <td>2815.09</td>\n",
       "      <td>0</td>\n",
       "      <td>2815.09</td>\n",
       "    </tr>\n",
       "    <tr>\n",
       "      <th>2</th>\n",
       "      <td>2016/5/24</td>\n",
       "      <td>2821.67</td>\n",
       "      <td>2821.67</td>\n",
       "      <td>2821.67</td>\n",
       "      <td>2821.67</td>\n",
       "      <td>0</td>\n",
       "      <td>2821.67</td>\n",
       "    </tr>\n",
       "    <tr>\n",
       "      <th>3</th>\n",
       "      <td>2016/5/20</td>\n",
       "      <td>2825.48</td>\n",
       "      <td>2825.48</td>\n",
       "      <td>2825.48</td>\n",
       "      <td>2825.48</td>\n",
       "      <td>0</td>\n",
       "      <td>2825.48</td>\n",
       "    </tr>\n",
       "    <tr>\n",
       "      <th>4</th>\n",
       "      <td>2016/5/19</td>\n",
       "      <td>2806.91</td>\n",
       "      <td>2806.91</td>\n",
       "      <td>2806.91</td>\n",
       "      <td>2806.91</td>\n",
       "      <td>0</td>\n",
       "      <td>2806.91</td>\n",
       "    </tr>\n",
       "    <tr>\n",
       "      <th>5</th>\n",
       "      <td>2016/5/18</td>\n",
       "      <td>2807.51</td>\n",
       "      <td>2807.51</td>\n",
       "      <td>2807.51</td>\n",
       "      <td>2807.51</td>\n",
       "      <td>0</td>\n",
       "      <td>2807.51</td>\n",
       "    </tr>\n",
       "    <tr>\n",
       "      <th>6</th>\n",
       "      <td>2016/5/17</td>\n",
       "      <td>2843.68</td>\n",
       "      <td>2843.68</td>\n",
       "      <td>2843.68</td>\n",
       "      <td>2843.68</td>\n",
       "      <td>0</td>\n",
       "      <td>2843.68</td>\n",
       "    </tr>\n",
       "    <tr>\n",
       "      <th>7</th>\n",
       "      <td>2016/5/16</td>\n",
       "      <td>2850.86</td>\n",
       "      <td>2850.86</td>\n",
       "      <td>2850.86</td>\n",
       "      <td>2850.86</td>\n",
       "      <td>0</td>\n",
       "      <td>2850.86</td>\n",
       "    </tr>\n",
       "    <tr>\n",
       "      <th>8</th>\n",
       "      <td>2016/5/13</td>\n",
       "      <td>2827.11</td>\n",
       "      <td>2827.11</td>\n",
       "      <td>2827.11</td>\n",
       "      <td>2827.11</td>\n",
       "      <td>0</td>\n",
       "      <td>2827.11</td>\n",
       "    </tr>\n",
       "    <tr>\n",
       "      <th>9</th>\n",
       "      <td>2016/5/12</td>\n",
       "      <td>2835.86</td>\n",
       "      <td>2835.86</td>\n",
       "      <td>2835.86</td>\n",
       "      <td>2835.86</td>\n",
       "      <td>0</td>\n",
       "      <td>2835.86</td>\n",
       "    </tr>\n",
       "    <tr>\n",
       "      <th>10</th>\n",
       "      <td>2016/5/11</td>\n",
       "      <td>2837.04</td>\n",
       "      <td>2837.04</td>\n",
       "      <td>2837.04</td>\n",
       "      <td>2837.04</td>\n",
       "      <td>0</td>\n",
       "      <td>2837.04</td>\n",
       "    </tr>\n",
       "    <tr>\n",
       "      <th>11</th>\n",
       "      <td>2016/5/10</td>\n",
       "      <td>2832.59</td>\n",
       "      <td>2832.59</td>\n",
       "      <td>2832.59</td>\n",
       "      <td>2832.59</td>\n",
       "      <td>0</td>\n",
       "      <td>2832.59</td>\n",
       "    </tr>\n",
       "    <tr>\n",
       "      <th>12</th>\n",
       "      <td>2016/5/9</td>\n",
       "      <td>2832.11</td>\n",
       "      <td>2832.11</td>\n",
       "      <td>2832.11</td>\n",
       "      <td>2832.11</td>\n",
       "      <td>0</td>\n",
       "      <td>2832.11</td>\n",
       "    </tr>\n",
       "    <tr>\n",
       "      <th>13</th>\n",
       "      <td>2016/5/6</td>\n",
       "      <td>2913.25</td>\n",
       "      <td>2913.25</td>\n",
       "      <td>2913.25</td>\n",
       "      <td>2913.25</td>\n",
       "      <td>0</td>\n",
       "      <td>2913.25</td>\n",
       "    </tr>\n",
       "    <tr>\n",
       "      <th>14</th>\n",
       "      <td>2016/5/5</td>\n",
       "      <td>2997.84</td>\n",
       "      <td>2997.84</td>\n",
       "      <td>2997.84</td>\n",
       "      <td>2997.84</td>\n",
       "      <td>0</td>\n",
       "      <td>2997.84</td>\n",
       "    </tr>\n",
       "    <tr>\n",
       "      <th>15</th>\n",
       "      <td>2016/5/4</td>\n",
       "      <td>2991.27</td>\n",
       "      <td>2991.27</td>\n",
       "      <td>2991.27</td>\n",
       "      <td>2991.27</td>\n",
       "      <td>0</td>\n",
       "      <td>2991.27</td>\n",
       "    </tr>\n",
       "    <tr>\n",
       "      <th>16</th>\n",
       "      <td>2016/5/3</td>\n",
       "      <td>2992.64</td>\n",
       "      <td>2992.64</td>\n",
       "      <td>2992.64</td>\n",
       "      <td>2992.64</td>\n",
       "      <td>0</td>\n",
       "      <td>2992.64</td>\n",
       "    </tr>\n",
       "    <tr>\n",
       "      <th>17</th>\n",
       "      <td>2016/4/29</td>\n",
       "      <td>2938.32</td>\n",
       "      <td>2938.32</td>\n",
       "      <td>2938.32</td>\n",
       "      <td>2938.32</td>\n",
       "      <td>0</td>\n",
       "      <td>2938.32</td>\n",
       "    </tr>\n",
       "    <tr>\n",
       "      <th>18</th>\n",
       "      <td>2016/4/28</td>\n",
       "      <td>2945.59</td>\n",
       "      <td>2945.59</td>\n",
       "      <td>2945.59</td>\n",
       "      <td>2945.59</td>\n",
       "      <td>0</td>\n",
       "      <td>2945.59</td>\n",
       "    </tr>\n",
       "    <tr>\n",
       "      <th>19</th>\n",
       "      <td>2016/4/27</td>\n",
       "      <td>2953.67</td>\n",
       "      <td>2953.67</td>\n",
       "      <td>2953.67</td>\n",
       "      <td>2953.67</td>\n",
       "      <td>0</td>\n",
       "      <td>2953.67</td>\n",
       "    </tr>\n",
       "    <tr>\n",
       "      <th>20</th>\n",
       "      <td>2016/4/26</td>\n",
       "      <td>2964.70</td>\n",
       "      <td>2964.70</td>\n",
       "      <td>2964.70</td>\n",
       "      <td>2964.70</td>\n",
       "      <td>0</td>\n",
       "      <td>2964.70</td>\n",
       "    </tr>\n",
       "    <tr>\n",
       "      <th>21</th>\n",
       "      <td>2016/4/25</td>\n",
       "      <td>2946.67</td>\n",
       "      <td>2946.67</td>\n",
       "      <td>2946.67</td>\n",
       "      <td>2946.67</td>\n",
       "      <td>0</td>\n",
       "      <td>2946.67</td>\n",
       "    </tr>\n",
       "    <tr>\n",
       "      <th>22</th>\n",
       "      <td>2016/4/22</td>\n",
       "      <td>2959.24</td>\n",
       "      <td>2959.24</td>\n",
       "      <td>2959.24</td>\n",
       "      <td>2959.24</td>\n",
       "      <td>0</td>\n",
       "      <td>2959.24</td>\n",
       "    </tr>\n",
       "    <tr>\n",
       "      <th>23</th>\n",
       "      <td>2016/4/21</td>\n",
       "      <td>2952.89</td>\n",
       "      <td>2952.89</td>\n",
       "      <td>2952.89</td>\n",
       "      <td>2952.89</td>\n",
       "      <td>0</td>\n",
       "      <td>2952.89</td>\n",
       "    </tr>\n",
       "    <tr>\n",
       "      <th>24</th>\n",
       "      <td>2016/4/20</td>\n",
       "      <td>2972.58</td>\n",
       "      <td>2972.58</td>\n",
       "      <td>2972.58</td>\n",
       "      <td>2972.58</td>\n",
       "      <td>0</td>\n",
       "      <td>2972.58</td>\n",
       "    </tr>\n",
       "    <tr>\n",
       "      <th>25</th>\n",
       "      <td>2016/4/19</td>\n",
       "      <td>3042.82</td>\n",
       "      <td>3042.82</td>\n",
       "      <td>3042.82</td>\n",
       "      <td>3042.82</td>\n",
       "      <td>0</td>\n",
       "      <td>3042.82</td>\n",
       "    </tr>\n",
       "    <tr>\n",
       "      <th>26</th>\n",
       "      <td>2016/4/18</td>\n",
       "      <td>3033.66</td>\n",
       "      <td>3033.66</td>\n",
       "      <td>3033.66</td>\n",
       "      <td>3033.66</td>\n",
       "      <td>0</td>\n",
       "      <td>3033.66</td>\n",
       "    </tr>\n",
       "    <tr>\n",
       "      <th>27</th>\n",
       "      <td>2016/4/15</td>\n",
       "      <td>3078.12</td>\n",
       "      <td>3078.12</td>\n",
       "      <td>3078.12</td>\n",
       "      <td>3078.12</td>\n",
       "      <td>0</td>\n",
       "      <td>3078.12</td>\n",
       "    </tr>\n",
       "    <tr>\n",
       "      <th>28</th>\n",
       "      <td>2016/4/14</td>\n",
       "      <td>3082.36</td>\n",
       "      <td>3082.36</td>\n",
       "      <td>3082.36</td>\n",
       "      <td>3082.36</td>\n",
       "      <td>0</td>\n",
       "      <td>3082.36</td>\n",
       "    </tr>\n",
       "    <tr>\n",
       "      <th>29</th>\n",
       "      <td>2016/4/13</td>\n",
       "      <td>3066.64</td>\n",
       "      <td>3066.64</td>\n",
       "      <td>3066.64</td>\n",
       "      <td>3066.64</td>\n",
       "      <td>0</td>\n",
       "      <td>3066.64</td>\n",
       "    </tr>\n",
       "    <tr>\n",
       "      <th>...</th>\n",
       "      <td>...</td>\n",
       "      <td>...</td>\n",
       "      <td>...</td>\n",
       "      <td>...</td>\n",
       "      <td>...</td>\n",
       "      <td>...</td>\n",
       "      <td>...</td>\n",
       "    </tr>\n",
       "    <tr>\n",
       "      <th>6455</th>\n",
       "      <td>1991/1/30</td>\n",
       "      <td>130.44</td>\n",
       "      <td>130.44</td>\n",
       "      <td>130.44</td>\n",
       "      <td>130.44</td>\n",
       "      <td>0</td>\n",
       "      <td>130.44</td>\n",
       "    </tr>\n",
       "    <tr>\n",
       "      <th>6456</th>\n",
       "      <td>1991/1/29</td>\n",
       "      <td>130.95</td>\n",
       "      <td>130.95</td>\n",
       "      <td>130.95</td>\n",
       "      <td>130.95</td>\n",
       "      <td>0</td>\n",
       "      <td>130.95</td>\n",
       "    </tr>\n",
       "    <tr>\n",
       "      <th>6457</th>\n",
       "      <td>1991/1/28</td>\n",
       "      <td>131.46</td>\n",
       "      <td>131.46</td>\n",
       "      <td>131.46</td>\n",
       "      <td>131.46</td>\n",
       "      <td>0</td>\n",
       "      <td>131.46</td>\n",
       "    </tr>\n",
       "    <tr>\n",
       "      <th>6458</th>\n",
       "      <td>1991/1/25</td>\n",
       "      <td>132.05</td>\n",
       "      <td>132.05</td>\n",
       "      <td>132.05</td>\n",
       "      <td>132.05</td>\n",
       "      <td>0</td>\n",
       "      <td>132.05</td>\n",
       "    </tr>\n",
       "    <tr>\n",
       "      <th>6459</th>\n",
       "      <td>1991/1/24</td>\n",
       "      <td>132.61</td>\n",
       "      <td>132.61</td>\n",
       "      <td>132.61</td>\n",
       "      <td>132.61</td>\n",
       "      <td>0</td>\n",
       "      <td>132.61</td>\n",
       "    </tr>\n",
       "    <tr>\n",
       "      <th>6460</th>\n",
       "      <td>1991/1/23</td>\n",
       "      <td>133.17</td>\n",
       "      <td>133.17</td>\n",
       "      <td>133.17</td>\n",
       "      <td>133.17</td>\n",
       "      <td>0</td>\n",
       "      <td>133.17</td>\n",
       "    </tr>\n",
       "    <tr>\n",
       "      <th>6461</th>\n",
       "      <td>1991/1/22</td>\n",
       "      <td>133.72</td>\n",
       "      <td>133.72</td>\n",
       "      <td>133.72</td>\n",
       "      <td>133.72</td>\n",
       "      <td>0</td>\n",
       "      <td>133.72</td>\n",
       "    </tr>\n",
       "    <tr>\n",
       "      <th>6462</th>\n",
       "      <td>1991/1/21</td>\n",
       "      <td>134.24</td>\n",
       "      <td>134.24</td>\n",
       "      <td>134.24</td>\n",
       "      <td>134.24</td>\n",
       "      <td>0</td>\n",
       "      <td>134.24</td>\n",
       "    </tr>\n",
       "    <tr>\n",
       "      <th>6463</th>\n",
       "      <td>1991/1/18</td>\n",
       "      <td>134.24</td>\n",
       "      <td>134.24</td>\n",
       "      <td>134.24</td>\n",
       "      <td>134.24</td>\n",
       "      <td>0</td>\n",
       "      <td>134.24</td>\n",
       "    </tr>\n",
       "    <tr>\n",
       "      <th>6464</th>\n",
       "      <td>1991/1/17</td>\n",
       "      <td>134.25</td>\n",
       "      <td>134.25</td>\n",
       "      <td>134.25</td>\n",
       "      <td>134.25</td>\n",
       "      <td>0</td>\n",
       "      <td>134.25</td>\n",
       "    </tr>\n",
       "    <tr>\n",
       "      <th>6465</th>\n",
       "      <td>1991/1/16</td>\n",
       "      <td>134.24</td>\n",
       "      <td>134.24</td>\n",
       "      <td>134.24</td>\n",
       "      <td>134.24</td>\n",
       "      <td>0</td>\n",
       "      <td>134.24</td>\n",
       "    </tr>\n",
       "    <tr>\n",
       "      <th>6466</th>\n",
       "      <td>1991/1/15</td>\n",
       "      <td>134.74</td>\n",
       "      <td>134.74</td>\n",
       "      <td>134.74</td>\n",
       "      <td>134.74</td>\n",
       "      <td>0</td>\n",
       "      <td>134.74</td>\n",
       "    </tr>\n",
       "    <tr>\n",
       "      <th>6467</th>\n",
       "      <td>1991/1/14</td>\n",
       "      <td>134.67</td>\n",
       "      <td>134.67</td>\n",
       "      <td>134.67</td>\n",
       "      <td>134.67</td>\n",
       "      <td>0</td>\n",
       "      <td>134.67</td>\n",
       "    </tr>\n",
       "    <tr>\n",
       "      <th>6468</th>\n",
       "      <td>1991/1/11</td>\n",
       "      <td>134.60</td>\n",
       "      <td>134.60</td>\n",
       "      <td>134.60</td>\n",
       "      <td>134.60</td>\n",
       "      <td>0</td>\n",
       "      <td>134.60</td>\n",
       "    </tr>\n",
       "    <tr>\n",
       "      <th>6469</th>\n",
       "      <td>1991/1/10</td>\n",
       "      <td>133.97</td>\n",
       "      <td>133.97</td>\n",
       "      <td>133.97</td>\n",
       "      <td>133.97</td>\n",
       "      <td>0</td>\n",
       "      <td>133.97</td>\n",
       "    </tr>\n",
       "    <tr>\n",
       "      <th>6470</th>\n",
       "      <td>1991/1/9</td>\n",
       "      <td>133.34</td>\n",
       "      <td>133.34</td>\n",
       "      <td>133.34</td>\n",
       "      <td>133.34</td>\n",
       "      <td>0</td>\n",
       "      <td>133.34</td>\n",
       "    </tr>\n",
       "    <tr>\n",
       "      <th>6471</th>\n",
       "      <td>1991/1/8</td>\n",
       "      <td>132.68</td>\n",
       "      <td>132.68</td>\n",
       "      <td>132.68</td>\n",
       "      <td>132.68</td>\n",
       "      <td>0</td>\n",
       "      <td>132.68</td>\n",
       "    </tr>\n",
       "    <tr>\n",
       "      <th>6472</th>\n",
       "      <td>1991/1/7</td>\n",
       "      <td>132.06</td>\n",
       "      <td>132.06</td>\n",
       "      <td>132.06</td>\n",
       "      <td>132.06</td>\n",
       "      <td>0</td>\n",
       "      <td>132.06</td>\n",
       "    </tr>\n",
       "    <tr>\n",
       "      <th>6473</th>\n",
       "      <td>1991/1/4</td>\n",
       "      <td>131.44</td>\n",
       "      <td>131.44</td>\n",
       "      <td>131.44</td>\n",
       "      <td>131.44</td>\n",
       "      <td>0</td>\n",
       "      <td>131.44</td>\n",
       "    </tr>\n",
       "    <tr>\n",
       "      <th>6474</th>\n",
       "      <td>1991/1/3</td>\n",
       "      <td>130.14</td>\n",
       "      <td>130.14</td>\n",
       "      <td>130.14</td>\n",
       "      <td>130.14</td>\n",
       "      <td>0</td>\n",
       "      <td>130.14</td>\n",
       "    </tr>\n",
       "    <tr>\n",
       "      <th>6475</th>\n",
       "      <td>1991/1/2</td>\n",
       "      <td>128.84</td>\n",
       "      <td>128.84</td>\n",
       "      <td>128.84</td>\n",
       "      <td>128.84</td>\n",
       "      <td>0</td>\n",
       "      <td>128.84</td>\n",
       "    </tr>\n",
       "    <tr>\n",
       "      <th>6476</th>\n",
       "      <td>1990/12/31</td>\n",
       "      <td>127.61</td>\n",
       "      <td>127.61</td>\n",
       "      <td>127.61</td>\n",
       "      <td>127.61</td>\n",
       "      <td>0</td>\n",
       "      <td>127.61</td>\n",
       "    </tr>\n",
       "    <tr>\n",
       "      <th>6477</th>\n",
       "      <td>1990/12/28</td>\n",
       "      <td>126.45</td>\n",
       "      <td>126.45</td>\n",
       "      <td>126.45</td>\n",
       "      <td>126.45</td>\n",
       "      <td>0</td>\n",
       "      <td>126.45</td>\n",
       "    </tr>\n",
       "    <tr>\n",
       "      <th>6478</th>\n",
       "      <td>1990/12/27</td>\n",
       "      <td>125.28</td>\n",
       "      <td>125.28</td>\n",
       "      <td>125.28</td>\n",
       "      <td>125.28</td>\n",
       "      <td>0</td>\n",
       "      <td>125.28</td>\n",
       "    </tr>\n",
       "    <tr>\n",
       "      <th>6479</th>\n",
       "      <td>1990/12/26</td>\n",
       "      <td>125.27</td>\n",
       "      <td>125.27</td>\n",
       "      <td>125.27</td>\n",
       "      <td>125.27</td>\n",
       "      <td>0</td>\n",
       "      <td>125.27</td>\n",
       "    </tr>\n",
       "    <tr>\n",
       "      <th>6480</th>\n",
       "      <td>1990/12/25</td>\n",
       "      <td>120.25</td>\n",
       "      <td>120.25</td>\n",
       "      <td>120.25</td>\n",
       "      <td>120.25</td>\n",
       "      <td>0</td>\n",
       "      <td>120.25</td>\n",
       "    </tr>\n",
       "    <tr>\n",
       "      <th>6481</th>\n",
       "      <td>1990/12/24</td>\n",
       "      <td>114.55</td>\n",
       "      <td>114.55</td>\n",
       "      <td>114.55</td>\n",
       "      <td>114.55</td>\n",
       "      <td>0</td>\n",
       "      <td>114.55</td>\n",
       "    </tr>\n",
       "    <tr>\n",
       "      <th>6482</th>\n",
       "      <td>1990/12/21</td>\n",
       "      <td>109.13</td>\n",
       "      <td>109.13</td>\n",
       "      <td>109.13</td>\n",
       "      <td>109.13</td>\n",
       "      <td>0</td>\n",
       "      <td>109.13</td>\n",
       "    </tr>\n",
       "    <tr>\n",
       "      <th>6483</th>\n",
       "      <td>1990/12/20</td>\n",
       "      <td>104.39</td>\n",
       "      <td>104.39</td>\n",
       "      <td>104.39</td>\n",
       "      <td>104.39</td>\n",
       "      <td>0</td>\n",
       "      <td>104.39</td>\n",
       "    </tr>\n",
       "    <tr>\n",
       "      <th>6484</th>\n",
       "      <td>1990/12/19</td>\n",
       "      <td>99.98</td>\n",
       "      <td>99.98</td>\n",
       "      <td>99.98</td>\n",
       "      <td>99.98</td>\n",
       "      <td>0</td>\n",
       "      <td>99.98</td>\n",
       "    </tr>\n",
       "  </tbody>\n",
       "</table>\n",
       "<p>6485 rows × 7 columns</p>\n",
       "</div>"
      ],
      "text/plain": [
       "            Date     Open     High      Low    Close  Volume  Adj Close\n",
       "0      2016/5/27  2821.05  2821.05  2821.05  2821.05       0    2821.05\n",
       "1      2016/5/25  2815.09  2815.09  2815.09  2815.09       0    2815.09\n",
       "2      2016/5/24  2821.67  2821.67  2821.67  2821.67       0    2821.67\n",
       "3      2016/5/20  2825.48  2825.48  2825.48  2825.48       0    2825.48\n",
       "4      2016/5/19  2806.91  2806.91  2806.91  2806.91       0    2806.91\n",
       "5      2016/5/18  2807.51  2807.51  2807.51  2807.51       0    2807.51\n",
       "6      2016/5/17  2843.68  2843.68  2843.68  2843.68       0    2843.68\n",
       "7      2016/5/16  2850.86  2850.86  2850.86  2850.86       0    2850.86\n",
       "8      2016/5/13  2827.11  2827.11  2827.11  2827.11       0    2827.11\n",
       "9      2016/5/12  2835.86  2835.86  2835.86  2835.86       0    2835.86\n",
       "10     2016/5/11  2837.04  2837.04  2837.04  2837.04       0    2837.04\n",
       "11     2016/5/10  2832.59  2832.59  2832.59  2832.59       0    2832.59\n",
       "12      2016/5/9  2832.11  2832.11  2832.11  2832.11       0    2832.11\n",
       "13      2016/5/6  2913.25  2913.25  2913.25  2913.25       0    2913.25\n",
       "14      2016/5/5  2997.84  2997.84  2997.84  2997.84       0    2997.84\n",
       "15      2016/5/4  2991.27  2991.27  2991.27  2991.27       0    2991.27\n",
       "16      2016/5/3  2992.64  2992.64  2992.64  2992.64       0    2992.64\n",
       "17     2016/4/29  2938.32  2938.32  2938.32  2938.32       0    2938.32\n",
       "18     2016/4/28  2945.59  2945.59  2945.59  2945.59       0    2945.59\n",
       "19     2016/4/27  2953.67  2953.67  2953.67  2953.67       0    2953.67\n",
       "20     2016/4/26  2964.70  2964.70  2964.70  2964.70       0    2964.70\n",
       "21     2016/4/25  2946.67  2946.67  2946.67  2946.67       0    2946.67\n",
       "22     2016/4/22  2959.24  2959.24  2959.24  2959.24       0    2959.24\n",
       "23     2016/4/21  2952.89  2952.89  2952.89  2952.89       0    2952.89\n",
       "24     2016/4/20  2972.58  2972.58  2972.58  2972.58       0    2972.58\n",
       "25     2016/4/19  3042.82  3042.82  3042.82  3042.82       0    3042.82\n",
       "26     2016/4/18  3033.66  3033.66  3033.66  3033.66       0    3033.66\n",
       "27     2016/4/15  3078.12  3078.12  3078.12  3078.12       0    3078.12\n",
       "28     2016/4/14  3082.36  3082.36  3082.36  3082.36       0    3082.36\n",
       "29     2016/4/13  3066.64  3066.64  3066.64  3066.64       0    3066.64\n",
       "...          ...      ...      ...      ...      ...     ...        ...\n",
       "6455   1991/1/30   130.44   130.44   130.44   130.44       0     130.44\n",
       "6456   1991/1/29   130.95   130.95   130.95   130.95       0     130.95\n",
       "6457   1991/1/28   131.46   131.46   131.46   131.46       0     131.46\n",
       "6458   1991/1/25   132.05   132.05   132.05   132.05       0     132.05\n",
       "6459   1991/1/24   132.61   132.61   132.61   132.61       0     132.61\n",
       "6460   1991/1/23   133.17   133.17   133.17   133.17       0     133.17\n",
       "6461   1991/1/22   133.72   133.72   133.72   133.72       0     133.72\n",
       "6462   1991/1/21   134.24   134.24   134.24   134.24       0     134.24\n",
       "6463   1991/1/18   134.24   134.24   134.24   134.24       0     134.24\n",
       "6464   1991/1/17   134.25   134.25   134.25   134.25       0     134.25\n",
       "6465   1991/1/16   134.24   134.24   134.24   134.24       0     134.24\n",
       "6466   1991/1/15   134.74   134.74   134.74   134.74       0     134.74\n",
       "6467   1991/1/14   134.67   134.67   134.67   134.67       0     134.67\n",
       "6468   1991/1/11   134.60   134.60   134.60   134.60       0     134.60\n",
       "6469   1991/1/10   133.97   133.97   133.97   133.97       0     133.97\n",
       "6470    1991/1/9   133.34   133.34   133.34   133.34       0     133.34\n",
       "6471    1991/1/8   132.68   132.68   132.68   132.68       0     132.68\n",
       "6472    1991/1/7   132.06   132.06   132.06   132.06       0     132.06\n",
       "6473    1991/1/4   131.44   131.44   131.44   131.44       0     131.44\n",
       "6474    1991/1/3   130.14   130.14   130.14   130.14       0     130.14\n",
       "6475    1991/1/2   128.84   128.84   128.84   128.84       0     128.84\n",
       "6476  1990/12/31   127.61   127.61   127.61   127.61       0     127.61\n",
       "6477  1990/12/28   126.45   126.45   126.45   126.45       0     126.45\n",
       "6478  1990/12/27   125.28   125.28   125.28   125.28       0     125.28\n",
       "6479  1990/12/26   125.27   125.27   125.27   125.27       0     125.27\n",
       "6480  1990/12/25   120.25   120.25   120.25   120.25       0     120.25\n",
       "6481  1990/12/24   114.55   114.55   114.55   114.55       0     114.55\n",
       "6482  1990/12/21   109.13   109.13   109.13   109.13       0     109.13\n",
       "6483  1990/12/20   104.39   104.39   104.39   104.39       0     104.39\n",
       "6484  1990/12/19    99.98    99.98    99.98    99.98       0      99.98\n",
       "\n",
       "[6485 rows x 7 columns]"
      ]
     },
     "execution_count": 90,
     "metadata": {},
     "output_type": "execute_result"
    }
   ],
   "source": [
    "pd.read_csv('qqdata.csv')"
   ]
  },
  {
   "cell_type": "code",
   "execution_count": 100,
   "metadata": {
    "collapsed": false,
    "scrolled": true
   },
   "outputs": [
    {
     "ename": "ImportError",
     "evalue": "html5lib not found, please install it",
     "output_type": "error",
     "traceback": [
      "\u001b[0;31m---------------------------------------------------------------------------\u001b[0m",
      "\u001b[0;31mImportError\u001b[0m                               Traceback (most recent call last)",
      "\u001b[0;32m<ipython-input-100-507364679b54>\u001b[0m in \u001b[0;36m<module>\u001b[0;34m()\u001b[0m\n\u001b[1;32m      1\u001b[0m \u001b[0murl\u001b[0m \u001b[0;34m=\u001b[0m \u001b[0;34m'file:///Users/xupanfeng/Downloads/Data102-master/code/4w/最新地震.webarchive'\u001b[0m\u001b[0;34m\u001b[0m\u001b[0m\n\u001b[1;32m      2\u001b[0m \u001b[0;34m\u001b[0m\u001b[0m\n\u001b[0;32m----> 3\u001b[0;31m \u001b[0mdfs\u001b[0m \u001b[0;34m=\u001b[0m \u001b[0mpd\u001b[0m\u001b[0;34m.\u001b[0m\u001b[0mread_html\u001b[0m\u001b[0;34m(\u001b[0m\u001b[0murl\u001b[0m\u001b[0;34m)\u001b[0m\u001b[0;34m\u001b[0m\u001b[0m\n\u001b[0m\u001b[1;32m      4\u001b[0m \u001b[0mdfs\u001b[0m\u001b[0;34m\u001b[0m\u001b[0m\n",
      "\u001b[0;32m/Users/xupanfeng/anaconda/lib/python2.7/site-packages/pandas/io/html.py\u001b[0m in \u001b[0;36mread_html\u001b[0;34m(io, match, flavor, header, index_col, skiprows, attrs, parse_dates, tupleize_cols, thousands, encoding)\u001b[0m\n\u001b[1;32m    864\u001b[0m     \u001b[0m_validate_header_arg\u001b[0m\u001b[0;34m(\u001b[0m\u001b[0mheader\u001b[0m\u001b[0;34m)\u001b[0m\u001b[0;34m\u001b[0m\u001b[0m\n\u001b[1;32m    865\u001b[0m     return _parse(flavor, io, match, header, index_col, skiprows,\n\u001b[0;32m--> 866\u001b[0;31m                   parse_dates, tupleize_cols, thousands, attrs, encoding)\n\u001b[0m",
      "\u001b[0;32m/Users/xupanfeng/anaconda/lib/python2.7/site-packages/pandas/io/html.py\u001b[0m in \u001b[0;36m_parse\u001b[0;34m(flavor, io, match, header, index_col, skiprows, parse_dates, tupleize_cols, thousands, attrs, encoding)\u001b[0m\n\u001b[1;32m    716\u001b[0m     \u001b[0mretained\u001b[0m \u001b[0;34m=\u001b[0m \u001b[0mNone\u001b[0m\u001b[0;34m\u001b[0m\u001b[0m\n\u001b[1;32m    717\u001b[0m     \u001b[0;32mfor\u001b[0m \u001b[0mflav\u001b[0m \u001b[0;32min\u001b[0m \u001b[0mflavor\u001b[0m\u001b[0;34m:\u001b[0m\u001b[0;34m\u001b[0m\u001b[0m\n\u001b[0;32m--> 718\u001b[0;31m         \u001b[0mparser\u001b[0m \u001b[0;34m=\u001b[0m \u001b[0m_parser_dispatch\u001b[0m\u001b[0;34m(\u001b[0m\u001b[0mflav\u001b[0m\u001b[0;34m)\u001b[0m\u001b[0;34m\u001b[0m\u001b[0m\n\u001b[0m\u001b[1;32m    719\u001b[0m         \u001b[0mp\u001b[0m \u001b[0;34m=\u001b[0m \u001b[0mparser\u001b[0m\u001b[0;34m(\u001b[0m\u001b[0mio\u001b[0m\u001b[0;34m,\u001b[0m \u001b[0mcompiled_match\u001b[0m\u001b[0;34m,\u001b[0m \u001b[0mattrs\u001b[0m\u001b[0;34m,\u001b[0m \u001b[0mencoding\u001b[0m\u001b[0;34m)\u001b[0m\u001b[0;34m\u001b[0m\u001b[0m\n\u001b[1;32m    720\u001b[0m \u001b[0;34m\u001b[0m\u001b[0m\n",
      "\u001b[0;32m/Users/xupanfeng/anaconda/lib/python2.7/site-packages/pandas/io/html.py\u001b[0m in \u001b[0;36m_parser_dispatch\u001b[0;34m(flavor)\u001b[0m\n\u001b[1;32m    661\u001b[0m     \u001b[0;32mif\u001b[0m \u001b[0mflavor\u001b[0m \u001b[0;32min\u001b[0m \u001b[0;34m(\u001b[0m\u001b[0;34m'bs4'\u001b[0m\u001b[0;34m,\u001b[0m \u001b[0;34m'html5lib'\u001b[0m\u001b[0;34m)\u001b[0m\u001b[0;34m:\u001b[0m\u001b[0;34m\u001b[0m\u001b[0m\n\u001b[1;32m    662\u001b[0m         \u001b[0;32mif\u001b[0m \u001b[0;32mnot\u001b[0m \u001b[0m_HAS_HTML5LIB\u001b[0m\u001b[0;34m:\u001b[0m\u001b[0;34m\u001b[0m\u001b[0m\n\u001b[0;32m--> 663\u001b[0;31m             \u001b[0;32mraise\u001b[0m \u001b[0mImportError\u001b[0m\u001b[0;34m(\u001b[0m\u001b[0;34m\"html5lib not found, please install it\"\u001b[0m\u001b[0;34m)\u001b[0m\u001b[0;34m\u001b[0m\u001b[0m\n\u001b[0m\u001b[1;32m    664\u001b[0m         \u001b[0;32mif\u001b[0m \u001b[0;32mnot\u001b[0m \u001b[0m_HAS_BS4\u001b[0m\u001b[0;34m:\u001b[0m\u001b[0;34m\u001b[0m\u001b[0m\n\u001b[1;32m    665\u001b[0m             \u001b[0;32mraise\u001b[0m \u001b[0mImportError\u001b[0m\u001b[0;34m(\u001b[0m\u001b[0;34m\"BeautifulSoup4 (bs4) not found, please install it\"\u001b[0m\u001b[0;34m)\u001b[0m\u001b[0;34m\u001b[0m\u001b[0m\n",
      "\u001b[0;31mImportError\u001b[0m: html5lib not found, please install it"
     ]
    }
   ],
   "source": [
    "url = 'file:///Users/xupanfeng/Downloads/Data102-master/code/4w/最新地震.webarchive'\n",
    "\n",
    "dfs = pd.read_html(url)\n",
    "dfs"
   ]
  },
  {
   "cell_type": "code",
   "execution_count": 107,
   "metadata": {
    "collapsed": false
   },
   "outputs": [
    {
     "name": "stdout",
     "output_type": "stream",
     "text": [
      "Collecting html5lib\n",
      "\u001b[33m  Retrying (Retry(total=4, connect=None, read=None, redirect=None)) after connection broken by 'ConnectTimeoutError(<pip._vendor.requests.packages.urllib3.connection.VerifiedHTTPSConnection object at 0x105b8d050>, 'Connection to pypi.python.org timed out. (connect timeout=15)')': /simple/html5lib/\u001b[0m\n",
      "\u001b[33m  Retrying (Retry(total=3, connect=None, read=None, redirect=None)) after connection broken by 'ConnectTimeoutError(<pip._vendor.requests.packages.urllib3.connection.VerifiedHTTPSConnection object at 0x105b8d750>, 'Connection to pypi.python.org timed out. (connect timeout=15)')': /simple/html5lib/\u001b[0m\n",
      "\u001b[33m  Retrying (Retry(total=2, connect=None, read=None, redirect=None)) after connection broken by 'ConnectTimeoutError(<pip._vendor.requests.packages.urllib3.connection.VerifiedHTTPSConnection object at 0x105b8de90>, 'Connection to pypi.python.org timed out. (connect timeout=15)')': /simple/html5lib/\u001b[0m\n",
      "\u001b[33m  Retrying (Retry(total=1, connect=None, read=None, redirect=None)) after connection broken by 'ConnectTimeoutError(<pip._vendor.requests.packages.urllib3.connection.VerifiedHTTPSConnection object at 0x105b8dc50>, 'Connection to pypi.python.org timed out. (connect timeout=15)')': /simple/html5lib/\u001b[0m\n",
      "\u001b[33m  Retrying (Retry(total=0, connect=None, read=None, redirect=None)) after connection broken by 'ConnectTimeoutError(<pip._vendor.requests.packages.urllib3.connection.VerifiedHTTPSConnection object at 0x105b8d390>, 'Connection to pypi.python.org timed out. (connect timeout=15)')': /simple/html5lib/\u001b[0m\n",
      "\u001b[31m  Could not find a version that satisfies the requirement html5lib (from versions: )\u001b[0m\n",
      "\u001b[31mNo matching distribution found for html5lib\u001b[0m\n"
     ]
    }
   ],
   "source": [
    "!pip install html5lib"
   ]
  },
  {
   "cell_type": "code",
   "execution_count": 105,
   "metadata": {
    "collapsed": false
   },
   "outputs": [
    {
     "ename": "ImportError",
     "evalue": "No module named basemap",
     "output_type": "error",
     "traceback": [
      "\u001b[0;31m---------------------------------------------------------------------------\u001b[0m",
      "\u001b[0;31mImportError\u001b[0m                               Traceback (most recent call last)",
      "\u001b[0;32m<ipython-input-105-03572f90c05c>\u001b[0m in \u001b[0;36m<module>\u001b[0;34m()\u001b[0m\n\u001b[1;32m      2\u001b[0m \u001b[0;32mimport\u001b[0m \u001b[0mrequests\u001b[0m\u001b[0;34m\u001b[0m\u001b[0m\n\u001b[1;32m      3\u001b[0m \u001b[0;32mimport\u001b[0m \u001b[0mnumpy\u001b[0m \u001b[0;32mas\u001b[0m \u001b[0mnp\u001b[0m\u001b[0;34m\u001b[0m\u001b[0m\n\u001b[0;32m----> 4\u001b[0;31m \u001b[0;32mfrom\u001b[0m \u001b[0mmpl_toolkits\u001b[0m\u001b[0;34m.\u001b[0m\u001b[0mbasemap\u001b[0m \u001b[0;32mimport\u001b[0m \u001b[0mBasemap\u001b[0m\u001b[0;34m\u001b[0m\u001b[0m\n\u001b[0m\u001b[1;32m      5\u001b[0m \u001b[0;32mimport\u001b[0m \u001b[0mmatplotlib\u001b[0m\u001b[0;34m.\u001b[0m\u001b[0mpyplot\u001b[0m \u001b[0;32mas\u001b[0m \u001b[0mplt\u001b[0m\u001b[0;34m\u001b[0m\u001b[0m\n\u001b[1;32m      6\u001b[0m \u001b[0mget_ipython\u001b[0m\u001b[0;34m(\u001b[0m\u001b[0;34m)\u001b[0m\u001b[0;34m.\u001b[0m\u001b[0mmagic\u001b[0m\u001b[0;34m(\u001b[0m\u001b[0;34mu'matplotlib inline'\u001b[0m\u001b[0;34m)\u001b[0m\u001b[0;34m\u001b[0m\u001b[0m\n",
      "\u001b[0;31mImportError\u001b[0m: No module named basemap"
     ]
    }
   ],
   "source": [
    "import pandas as pd\n",
    "import requests\n",
    "import numpy as np\n",
    "from mpl_toolkits.basemap import Basemap\n",
    "import matplotlib.pyplot as plt\n",
    "%matplotlib inline"
   ]
  },
  {
   "cell_type": "code",
   "execution_count": null,
   "metadata": {
    "collapsed": true
   },
   "outputs": [],
   "source": []
  }
 ],
 "metadata": {
  "kernelspec": {
   "display_name": "Python 2",
   "language": "python",
   "name": "python2"
  },
  "language_info": {
   "codemirror_mode": {
    "name": "ipython",
    "version": 2
   },
   "file_extension": ".py",
   "mimetype": "text/x-python",
   "name": "python",
   "nbconvert_exporter": "python",
   "pygments_lexer": "ipython2",
   "version": "2.7.11"
  }
 },
 "nbformat": 4,
 "nbformat_minor": 0
}
